{
 "cells": [
  {
   "cell_type": "code",
   "execution_count": 1,
   "metadata": {},
   "outputs": [],
   "source": [
    "from dotenv import load_dotenv, find_dotenv\n",
    "_ = load_dotenv(find_dotenv()) # read local .env file\n",
    "\n",
    "import warnings\n",
    "warnings.filterwarnings(\"ignore\")"
   ]
  },
  {
   "cell_type": "code",
   "execution_count": 2,
   "metadata": {},
   "outputs": [],
   "source": [
    "from langchain.document_loaders import PyPDFLoader\n",
    "from langchain.text_splitter import RecursiveCharacterTextSplitter\n",
    "from langchain.vectorstores import FAISS\n",
    "from langchain.embeddings import OpenAIEmbeddings\n",
    "\n",
    "def get_retriever_pdf(path):   \n",
    "    loader = PyPDFLoader(path)\n",
    "    documents = loader.load()\n",
    "    text_splitter = RecursiveCharacterTextSplitter(chunk_size=1000, chunk_overlap=50)\n",
    "    texts = text_splitter.split_documents(documents)\n",
    "    embeddings = OpenAIEmbeddings()\n",
    "    db = FAISS.from_documents(texts, embeddings)\n",
    "    retriever = db.as_retriever(search_kwargs = {\"k\":3})\n",
    "    return retriever\n",
    "\n",
    "\n"
   ]
  },
  {
   "cell_type": "code",
   "execution_count": 3,
   "metadata": {},
   "outputs": [],
   "source": [
    "ubs_retriever = get_retriever_pdf(\"./ubs-benefits-2022-at-a-glance.pdf\")\n",
    "jp_retriever = get_retriever_pdf(\"./2023_US_Highlights_Benefits_Program.pdf\")\n",
    "cs_retriever = get_retriever_pdf(\"./Credit Suisse US Benefits Guide February 2023.pdf\")"
   ]
  },
  {
   "cell_type": "code",
   "execution_count": 4,
   "metadata": {},
   "outputs": [],
   "source": [
    "from langchain.agents.agent_toolkits import create_retriever_tool\n",
    "\n",
    "ubs_tool = create_retriever_tool(\n",
    "    ubs_retriever, \n",
    "    \"search_ubs_benefits\",\n",
    "    \"Searches and returns documents regarding the different kind of benefits offered by UBS to its employees. Note that any it is only valid if your employer is UBS, not any other company\"\n",
    ")\n",
    "\n",
    "jp_tool = create_retriever_tool(\n",
    "    jp_retriever, \n",
    "    \"search_jpmc_benefits\",\n",
    "    \"Searches and returns documents regarding the different kind of benefits offered by JPMC ( JP Morgan Chase) to its employees. Note that any it is only valid if your employer is JPMC (JP Morgan Chase), not any other company\"\n",
    ")\n",
    "\n",
    "cs_tool = create_retriever_tool(\n",
    "    cs_retriever, \n",
    "    \"search_cs_benefits\",\n",
    "    \"Searches and returns documents regarding the different kind of benefits offered by Credit Suisse (CS) to its employees. Note that any it is only valid if your employer is CS (Credit Suisse), not any other company\"\n",
    ")\n",
    "\n",
    "tools = [ubs_tool, jp_tool, cs_tool]"
   ]
  },
  {
   "cell_type": "code",
   "execution_count": 5,
   "metadata": {},
   "outputs": [],
   "source": [
    "from langchain.agents.agent_toolkits import create_conversational_retrieval_agent"
   ]
  },
  {
   "cell_type": "code",
   "execution_count": 6,
   "metadata": {},
   "outputs": [],
   "source": [
    "from langchain.chat_models import ChatOpenAI\n",
    "llm = ChatOpenAI(model_name = \"gpt-4\", temperature = 0)"
   ]
  },
  {
   "cell_type": "code",
   "execution_count": 7,
   "metadata": {},
   "outputs": [],
   "source": [
    "agent_executor = create_conversational_retrieval_agent(llm, tools, verbose=True)"
   ]
  },
  {
   "cell_type": "code",
   "execution_count": 8,
   "metadata": {},
   "outputs": [],
   "source": [
    "def bismayan_chat(query):\n",
    "    result = agent_executor({\"input\": query})\n",
    "    print(result[\"output\"])"
   ]
  },
  {
   "cell_type": "code",
   "execution_count": 9,
   "metadata": {},
   "outputs": [
    {
     "name": "stdout",
     "output_type": "stream",
     "text": [
      "\n",
      "\n",
      "\u001b[1m> Entering new AgentExecutor chain...\u001b[0m\n",
      "\u001b[32;1m\u001b[1;3m\n",
      "Invoking: `search_ubs_benefits` with `401K plan`\n",
      "\n",
      "\n",
      "\u001b[0m\u001b[36;1m\u001b[1;3m[Document(page_content='discretion. Eligible earnings are (as applicable) your salary and any bonus and commissions. Eligible earnings could also include (as applicable) additional \\ncompensation, some types of recurring awards and supplemental payment. Plan limits and IRS limits apply.\\n     \\n    If you are eligible, UBS provides you with a Retirement Contribution equal to a percentage of your eligible compensation. Generally, the percentage is \\nbased on your years of service with UBS as of the beginning of the applicable Plan year. You do not have to contribute to the Plan in order to receive \\na Retirement Contribution. You must generally be actively employed by UBS on the last business day of the applicable Plan year in order to receive a \\nRetirement Contribution; subject to certain exceptions set forth in the 401(k) Plan provided, however, that no Company Retirement Contribution will be', metadata={'source': './ubs-benefits-2022-at-a-glance.pdf', 'page': 5}), Document(page_content='with a Retirement Contribution equal to a percentage of \\nyour eligible compensation.3 Visit goto/usbeneﬁts  to \\nlearn more.\\nEquity Plus Plan\\n•  Voluntary after-tax purchase plan that allows eligible \\nemployees to purchase UBS group stock and receive  \\none notional share for every three shares purchased.\\nEmployee Pricing\\n•  Less expensive ways to trade equities and options  \\nthrough your accounts at UBS.\\nUBS Financial Wellness\\n•  Education, digital tools and licensed ﬁnancial coaches \\nto support informed ﬁnancial decisions. Learn more at \\nfinancialwellness.ubs.com/fw/UBS  or +1-888-FIN \\nWELL (+1-888-346-9355).\\nShort-Term Disability (STD)4\\n•  The Firm provides Short-Term Disability coverage for up  \\nto 26 weeks to eligible employees. The STD program \\n(salary continuation) is intended to provide income \\nprotection when an employee is unable to work due  \\nto a non-work related injury, illness or other disability \\nincluding pregnancy.', metadata={'source': './ubs-benefits-2022-at-a-glance.pdf', 'page': 3}), Document(page_content='Flexible Spending Account\\n•  Three accounts to choose from, depending on the medical \\nplan in which you enroll, and your needs: Healthcare \\nFSA (general purpose), Limited Purpose FSA (dental and \\nvision), or Dependent Care FSA. In addition, UBS matches \\n100% of your contribution up to $1,000 per year to your \\nDependent Care FSA if you’re eligible to participate and \\nyour 2023 Beneﬁts Base Salary is less than $100,000.\\nHealth Savings Account (HSA)\\n•  Opportunity to save for future healthcare expenses with \\nyour own pre-tax contributions as well as contributions \\nfrom UBS on your behalf. HSA contributions from UBS \\ninclude the annual core contribution of up to $600 and \\nwellness incentives of up to $400 or $800.2 \\n401(k) Plan\\n•  This retirement saving vehicle gives you a way to save \\nand invest your before and after-tax contributions, up to \\nmaximum IRS deferral limits. UBS provides a company \\nmatching contribution of up to $8,000 per year, along', metadata={'source': './ubs-benefits-2022-at-a-glance.pdf', 'page': 3})]\u001b[0m\u001b[32;1m\u001b[1;3mUBS offers a 401(k) plan as a retirement saving vehicle for its employees. This plan allows employees to save and invest their before and after-tax contributions, up to the maximum IRS deferral limits. UBS provides a company matching contribution of up to $8,000 per year.\n",
      "\n",
      "In addition, UBS provides a Retirement Contribution equal to a percentage of the employee's eligible compensation. This percentage is generally based on the employee's years of service with UBS as of the beginning of the applicable Plan year. Employees do not have to contribute to the Plan in order to receive a Retirement Contribution. However, they must generally be actively employed by UBS on the last business day of the applicable Plan year in order to receive a Retirement Contribution.\n",
      "\n",
      "For more detailed information, employees are encouraged to visit the UBS benefits page or contact the UBS benefits department.\u001b[0m\n",
      "\n",
      "\u001b[1m> Finished chain.\u001b[0m\n",
      "UBS offers a 401(k) plan as a retirement saving vehicle for its employees. This plan allows employees to save and invest their before and after-tax contributions, up to the maximum IRS deferral limits. UBS provides a company matching contribution of up to $8,000 per year.\n",
      "\n",
      "In addition, UBS provides a Retirement Contribution equal to a percentage of the employee's eligible compensation. This percentage is generally based on the employee's years of service with UBS as of the beginning of the applicable Plan year. Employees do not have to contribute to the Plan in order to receive a Retirement Contribution. However, they must generally be actively employed by UBS on the last business day of the applicable Plan year in order to receive a Retirement Contribution.\n",
      "\n",
      "For more detailed information, employees are encouraged to visit the UBS benefits page or contact the UBS benefits department.\n"
     ]
    }
   ],
   "source": [
    "bismayan_chat(\"Tell me about the 401K plan offered to UBS employees\")"
   ]
  },
  {
   "cell_type": "code",
   "execution_count": 10,
   "metadata": {},
   "outputs": [
    {
     "name": "stdout",
     "output_type": "stream",
     "text": [
      "\n",
      "\n",
      "\u001b[1m> Entering new AgentExecutor chain...\u001b[0m\n",
      "\u001b[32;1m\u001b[1;3m\n",
      "Invoking: `search_jpmc_benefits` with `401K plan`\n",
      "\n",
      "\n",
      "\u001b[0m\u001b[33;1m\u001b[1;3m[Document(page_content='you can make the most of the plan by saving and investing. \\nEnrolling\\nIf you take no action within the first 31 days after your hire/eligibility date, you will be \\nautomatically enrolled at a before-tax contribution rate of 3% of Ongoing Compensation,  \\nwhich includes base salary/regular pay and non-annual cash incentives.1\\nYour 3% before-tax contributions will be invested in a Target Date Fund based on your age and \\nan assumed retirement age of 65. Your contributions will increase by 1% annually, up to a total \\ncontribution rate of 10%. \\nYou may wish to consider whether this contribution rate will be enough to meet your financial \\ngoals, and if not, choose a contribution rate that suits your needs. Keep in mind that the plan \\noffers two ways to save on a tax-advantaged basis. \\nIf you don’t want to be enrolled automatically, you can either enroll yourself or you can opt out \\nof automatic enrollment via the 401(k) Savings P lan Call Center or Web Center prior to the end', metadata={'source': './2023_US_Highlights_Benefits_Program.pdf', 'page': 36}), Document(page_content='that’s right for you.Investing \\nThe plan offers two ways to invest to give you flexibility to choose how you make your \\ninvestment decisions — and the tools you’ll need to build a balanced retirement portfolio.\\n •No Assembly Required:  If you lack the time, interest or expertise to research, manage and \\nmonitor your investments in the plan, you can select one of the Target Date Funds offered \\nunder the plan. Each Target Date Fund corresponds to an expected “target” year — the year that \\nyou plan to start withdrawing from your account (generally your retirement date). The funds are \\nalready diversified with an asset mix that automatically becomes more conservative over time.\\n •Do It Yourself:  If you want a more hands-on approach, you can create your own diversified \\ninvestment mix by choosing a combination of the plan’s Core Funds .\\nTo learn more about the plan’s investment options, visit the 401(k) Savings Plan Web Center.', metadata={'source': './2023_US_Highlights_Benefits_Program.pdf', 'page': 38}), Document(page_content='37|Highlights of the 2023 JPMorgan Chase U.S. Benefits Program\\nFor employees living in all states except Arizona and OhioThe Retirement Savings Program\\nBuilding a financially secure future is a partnership between you and JPMorgan Chase.  \\nThat’s why the firm provides the 401(k) Savings Plan, one of the best and easiest ways to \\nsave for your retirement. In this section you’ll also find information about the Pension Plan \\n(to the extent it applies to you) and the Employee Stock Purchase Plan.\\n401(k) Savings Plan\\nJPMorgan Chase believes that saving for retirement is important. That’s why the firm provides \\nannual automatic pay credits after one year of total service. In addition, to encourage saving, \\nthe firm provides dollar for dollar matching contributions to most employees after they \\ncomplete one year of service. To take advantage of this benefit, begin by enrolling in the plan. \\nIt’s easy — whether you’re automatically enrolled or you enroll on your own. Beyond that step,', metadata={'source': './2023_US_Highlights_Benefits_Program.pdf', 'page': 36})]\u001b[0m\u001b[32;1m\u001b[1;3mJPMorgan Chase offers a 401(k) Savings Plan as part of its Retirement Savings Program. The firm believes that saving for retirement is important and provides annual automatic pay credits after one year of total service. In addition, to encourage saving, the firm provides dollar for dollar matching contributions to most employees after they complete one year of service.\n",
      "\n",
      "If a new employee takes no action within the first 31 days after their hire/eligibility date, they will be automatically enrolled at a before-tax contribution rate of 3% of Ongoing Compensation, which includes base salary/regular pay and non-annual cash incentives. These contributions will be invested in a Target Date Fund based on the employee's age and an assumed retirement age of 65. The contributions will increase by 1% annually, up to a total contribution rate of 10%.\n",
      "\n",
      "The plan offers two ways to invest to give employees flexibility in their investment decisions. They can either select one of the Target Date Funds offered under the plan, which are already diversified with an asset mix that automatically becomes more conservative over time, or they can create their own diversified investment mix by choosing a combination of the plan’s Core Funds.\n",
      "\n",
      "For more detailed information, employees are encouraged to visit the 401(k) Savings Plan Web Center or contact the JPMorgan Chase benefits department.\u001b[0m\n",
      "\n",
      "\u001b[1m> Finished chain.\u001b[0m\n",
      "JPMorgan Chase offers a 401(k) Savings Plan as part of its Retirement Savings Program. The firm believes that saving for retirement is important and provides annual automatic pay credits after one year of total service. In addition, to encourage saving, the firm provides dollar for dollar matching contributions to most employees after they complete one year of service.\n",
      "\n",
      "If a new employee takes no action within the first 31 days after their hire/eligibility date, they will be automatically enrolled at a before-tax contribution rate of 3% of Ongoing Compensation, which includes base salary/regular pay and non-annual cash incentives. These contributions will be invested in a Target Date Fund based on the employee's age and an assumed retirement age of 65. The contributions will increase by 1% annually, up to a total contribution rate of 10%.\n",
      "\n",
      "The plan offers two ways to invest to give employees flexibility in their investment decisions. They can either select one of the Target Date Funds offered under the plan, which are already diversified with an asset mix that automatically becomes more conservative over time, or they can create their own diversified investment mix by choosing a combination of the plan’s Core Funds.\n",
      "\n",
      "For more detailed information, employees are encouraged to visit the 401(k) Savings Plan Web Center or contact the JPMorgan Chase benefits department.\n"
     ]
    }
   ],
   "source": [
    "bismayan_chat(\"Tell me about the 401K plan offered to JPMC employees\")"
   ]
  },
  {
   "cell_type": "code",
   "execution_count": 11,
   "metadata": {},
   "outputs": [
    {
     "name": "stdout",
     "output_type": "stream",
     "text": [
      "\n",
      "\n",
      "\u001b[1m> Entering new AgentExecutor chain...\u001b[0m\n",
      "\u001b[32;1m\u001b[1;3m\n",
      "Invoking: `search_ubs_benefits` with `life insurance`\n",
      "\n",
      "\n",
      "\u001b[0m\u001b[36;1m\u001b[1;3m[Document(page_content='be required thereafter for coverage over $125,000.\\nDependent Life Insurance  \\n• Purchase coverage of $5,000 or $10,000.\\nAccidental Death & Dismemberment Insurance\\n•  Purchase coverage in increments of $10,000, up to  \\n$1.75 million.\\nBusiness Travel Insurance\\n•  Provided at no cost; coverage up to 10x your BBS,  \\nup to $1.25 million, for eligible employees.\\nTuition Assistance Program\\n•  Up to $8,000 for qualifying employees with at least 6 \\nmonths of service to further professional development.\\nGroup Legal Plan\\n•  Affordable access to attorneys for certain personal legal \\nservices, now with additional included services for 2023.\\nScholarship Programs\\n•  Available for our employees’ children. Visit the Employee \\nHandbook at goto/HR  for more information.\\nLife Essentials\\n•  As part of our partnership with The Hartford, UBS \\nemployees have access to a range of other helpful \\nservices including Funeral Concierge, Beneficiary Assist', metadata={'source': './ubs-benefits-2022-at-a-glance.pdf', 'page': 3}), Document(page_content='including pregnancy.\\n     Effective January 1, 2023, the STD program will provide  \\n8 - 26 weeks paid at 100% of your current salary based \\non your years of service, and then 75% of your current \\nsalary for the remainder of your approved leave duration.\\nLong-Term Disability (LTD)  \\n•  Basic coverage 50% of LTD Beneﬁts Base Salary up to \\n$5,000 per month provided at no cost to employees.5 \\nSupplemental LTD coverage option also available. Critical Illness Insurance6\\n•  Financial protection in a lump sum ($20,000 or $40,000) \\nupon diagnosis of a covered illness.\\nBasic Life Insurance\\n•  Provided at no cost; coverage equal to 2x BBS (up to \\n$250,000) for eligible employees.\\nSupplemental Life Insurance\\n•  Purchase coverage equal to 1-8x your compensation, up to \\n$5 million.7\\nSpouse/Partner Life Insurance  \\n•  Purchase coverage in increments of $25,000, up to \\n$250,000.8 No evidence of insurability (EOI) requirement \\napplies during the 2023 Open Enrollment period. EOI will', metadata={'source': './ubs-benefits-2022-at-a-glance.pdf', 'page': 3}), Document(page_content='Counseling, EstateGuidance Will Services, Travel Assistance \\nwith ID Theft Protection, Ability Assist Counseling and \\nHealthChampion Health Care Support.Financial Well-Being  $$$\\n \\n Additional details, including terms and conditions \\nof participation regarding the Benefits Plan \\ncomponents and Policies summarized in this \\nbooklet may be found at:\\n•  US Benefits microsite at ubs.com/usbenefits\\n• UBS Employee Handbook at goto/HR\\n•  Summary Plan Descriptions at goto/usbenefits', metadata={'source': './ubs-benefits-2022-at-a-glance.pdf', 'page': 3})]\u001b[0m\u001b[32;1m\u001b[1;3m\n",
      "Invoking: `search_jpmc_benefits` with `life insurance`\n",
      "\n",
      "\n",
      "\u001b[0m\u001b[33;1m\u001b[1;3m[Document(page_content='are paid to your designated beneficiary. \\n Additional benefits of the Basic Life Insurance Plan include:\\n —SurvivorSupport® Financial Counseling Service: Provides telephonic financial \\ncounseling services to a surviving spouse or key adult survivor for six months after an \\nemployee’s death\\n —Travel Assistance with ID Theft Solutions Services:1 \\n •Identity (ID) Theft Assistance Program: Provides identity theft protection \\neducation and assistance to help guide you through the recovery process if your \\nidentity or that of your dependents is compromised.\\n •Travel Assistance and Emergency Evacuation Services: Provides travel  \\nassistance and emergency services for employees and their family members in  \\nthe event of an unexpected medical emergency when traveling 100 miles or more \\nfrom home.\\n •Mobile Assist: Provides information to help avoid expensive mobile telephone \\ncharges and help effectively use overseas options.', metadata={'source': './2023_US_Highlights_Benefits_Program.pdf', 'page': 32}), Document(page_content='Life Insurance for your eligible dependents on an after-tax basis. You can buy coverage for \\nyour spouse/domestic partner from $10,000 to $300,000 (in $10,000 increments), subject to \\napproval by MetLife. In addition, you can buy $5,000, $10,000, $15,000 or $20,000 in \\ncoverage for each dependent child through MetLife (as long as they meet the eligibility \\nrequirements for dependent coverage). Please note: To purchase Supplemental Term Life \\nInsurance for your spouse/domestic partner or dependent child(ren), you do not need to \\nelect coverage for yourself.\\n •The following services are included with Supplemental Term Life Insurance at no cost:\\n —Will Preparation Services:1 Offers you and your spouse/domestic partner unlimited \\nface-to-face or telephonic meetings with an attorney from MetLife Legal Plans’ network of \\nover 174,000 participating attorneys. \\n —Estate Resolution Services:1 Offers legal assistance from MetLife Legal Plans’ attorney', metadata={'source': './2023_US_Highlights_Benefits_Program.pdf', 'page': 33}), Document(page_content='the liability coverage amount that may be appropriate for you. \\n — Claims Advocacy:  In the event of a claim, Marsh McLennan Agency will serve as your advocate throughout the claims process. Important Details About Participation in the Life and Accident Insurance Plans\\n •Evidence of Insurability (EOI): If you enroll in employee Supplemental Term Life Insurance when you are newly hired, you are \\nallowed to enroll for an amount up to the lesser of three times Total Annual Cash Compensation or $500,000 without having to \\nsubmit EOI. You can initially enroll a spouse/domestic partner for an amount up to $50,000 without having to submit EOI. \\nElected amounts above these guaranteed issue amounts will be subject to EOI. If you do not enroll as a new hire or if you \\nsubsequently increase coverage at a later date, all new coverage will be subject to EOI requirements at the time you make the \\nnew election.', metadata={'source': './2023_US_Highlights_Benefits_Program.pdf', 'page': 34})]\u001b[0m\u001b[32;1m\u001b[1;3mUBS and JPMorgan Chase both offer life insurance plans to their employees, but the specifics of the plans differ.\n",
      "\n",
      "UBS provides Basic Life Insurance at no cost, with coverage equal to 2x the employee's Benefits Base Salary (BBS) up to $250,000 for eligible employees. Employees can also purchase Supplemental Life Insurance coverage equal to 1-8x their compensation, up to $5 million. Spouse/Partner Life Insurance can be purchased in increments of $25,000, up to $250,000. UBS also offers Dependent Life Insurance, where employees can purchase coverage of $5,000 or $10,000. Additional services include Funeral Concierge, Beneficiary Assist Counseling, EstateGuidance Will Services, Travel Assistance with ID Theft Protection, Ability Assist Counseling, and HealthChampion Health Care Support.\n",
      "\n",
      "JPMorgan Chase also offers Basic Life Insurance and Supplemental Term Life Insurance. Employees can buy coverage for their spouse/domestic partner from $10,000 to $300,000 (in $10,000 increments), subject to approval by MetLife. In addition, they can buy $5,000, $10,000, $15,000, or $20,000 in coverage for each dependent child through MetLife. Additional benefits of the Basic Life Insurance Plan include SurvivorSupport® Financial Counseling Service, Travel Assistance with ID Theft Solutions Services, and Mobile Assist. The Supplemental Term Life Insurance includes Will Preparation Services and Estate Resolution Services at no cost.\n",
      "\n",
      "In terms of Evidence of Insurability (EOI), if a new hire at JPMorgan Chase enrolls in employee Supplemental Term Life Insurance, they are allowed to enroll for an amount up to the lesser of three times Total Annual Cash Compensation or $500,000 without having to submit EOI. They can initially enroll a spouse/domestic partner for an amount up to $50,000 without having to submit EOI. Elected amounts above these guaranteed issue amounts will be subject to EOI. If they do not enroll as a new hire or if they subsequently increase coverage at a later date, all new coverage will be subject to EOI requirements at the time they make the new election. At UBS, no evidence of insurability (EOI) requirement applies during the 2023 Open Enrollment period. EOI will be required thereafter for coverage over $125,000.\u001b[0m\n",
      "\n",
      "\u001b[1m> Finished chain.\u001b[0m\n",
      "UBS and JPMorgan Chase both offer life insurance plans to their employees, but the specifics of the plans differ.\n",
      "\n",
      "UBS provides Basic Life Insurance at no cost, with coverage equal to 2x the employee's Benefits Base Salary (BBS) up to $250,000 for eligible employees. Employees can also purchase Supplemental Life Insurance coverage equal to 1-8x their compensation, up to $5 million. Spouse/Partner Life Insurance can be purchased in increments of $25,000, up to $250,000. UBS also offers Dependent Life Insurance, where employees can purchase coverage of $5,000 or $10,000. Additional services include Funeral Concierge, Beneficiary Assist Counseling, EstateGuidance Will Services, Travel Assistance with ID Theft Protection, Ability Assist Counseling, and HealthChampion Health Care Support.\n",
      "\n",
      "JPMorgan Chase also offers Basic Life Insurance and Supplemental Term Life Insurance. Employees can buy coverage for their spouse/domestic partner from $10,000 to $300,000 (in $10,000 increments), subject to approval by MetLife. In addition, they can buy $5,000, $10,000, $15,000, or $20,000 in coverage for each dependent child through MetLife. Additional benefits of the Basic Life Insurance Plan include SurvivorSupport® Financial Counseling Service, Travel Assistance with ID Theft Solutions Services, and Mobile Assist. The Supplemental Term Life Insurance includes Will Preparation Services and Estate Resolution Services at no cost.\n",
      "\n",
      "In terms of Evidence of Insurability (EOI), if a new hire at JPMorgan Chase enrolls in employee Supplemental Term Life Insurance, they are allowed to enroll for an amount up to the lesser of three times Total Annual Cash Compensation or $500,000 without having to submit EOI. They can initially enroll a spouse/domestic partner for an amount up to $50,000 without having to submit EOI. Elected amounts above these guaranteed issue amounts will be subject to EOI. If they do not enroll as a new hire or if they subsequently increase coverage at a later date, all new coverage will be subject to EOI requirements at the time they make the new election. At UBS, no evidence of insurability (EOI) requirement applies during the 2023 Open Enrollment period. EOI will be required thereafter for coverage over $125,000.\n"
     ]
    }
   ],
   "source": [
    "bismayan_chat(\"Compare the life insurance plans of these two companies and give me a summary\")"
   ]
  },
  {
   "cell_type": "code",
   "execution_count": 12,
   "metadata": {},
   "outputs": [
    {
     "name": "stdout",
     "output_type": "stream",
     "text": [
      "\n",
      "\n",
      "\u001b[1m> Entering new AgentExecutor chain...\u001b[0m\n",
      "\u001b[32;1m\u001b[1;3mIn the realm where finance giants dwell,\n",
      "UBS and JPMorgan, their stories we tell.\n",
      "Insurance of life, a benefit they bestow,\n",
      "A safety net as the winds of life blow.\n",
      "\n",
      "UBS stands tall, with a generous hand,\n",
      "Basic Life Insurance, across the land.\n",
      "Twice the base salary, a coverage so grand,\n",
      "And for the dependents, a safety band.\n",
      "\n",
      "Supplemental coverage, up to five million high,\n",
      "For the employee's peace, under the sky.\n",
      "Spouse and partner, not left aside,\n",
      "In increments of twenty-five, they too ride.\n",
      "\n",
      "JPMorgan Chase, not to be outdone,\n",
      "Offers a plan under the same sun.\n",
      "For spouse and child, coverage they provide,\n",
      "In the face of uncertainty, a trusted guide.\n",
      "\n",
      "Supplemental term life, a choice so wise,\n",
      "With MetLife they partner, to organize.\n",
      "Will preparation, estate resolution, free,\n",
      "A comprehensive plan, as good as can be.\n",
      "\n",
      "Evidence of Insurability, a term so grave,\n",
      "Determines the coverage, one can save.\n",
      "At UBS, during open enrollment, no EOI sought,\n",
      "At JPMorgan, a different thought.\n",
      "\n",
      "Three times the cash compensation, or half a million cap,\n",
      "Without EOI, a new hire can tap.\n",
      "For spouse or partner, fifty thousand coverage in sight,\n",
      "Without EOI, a comforting light.\n",
      "\n",
      "In the world of finance, amidst the daily grind,\n",
      "Life insurance benefits, a peace of mind.\n",
      "UBS and JPMorgan, in this endeavor,\n",
      "Ensuring their employees are covered forever.\u001b[0m\n",
      "\n",
      "\u001b[1m> Finished chain.\u001b[0m\n",
      "In the realm where finance giants dwell,\n",
      "UBS and JPMorgan, their stories we tell.\n",
      "Insurance of life, a benefit they bestow,\n",
      "A safety net as the winds of life blow.\n",
      "\n",
      "UBS stands tall, with a generous hand,\n",
      "Basic Life Insurance, across the land.\n",
      "Twice the base salary, a coverage so grand,\n",
      "And for the dependents, a safety band.\n",
      "\n",
      "Supplemental coverage, up to five million high,\n",
      "For the employee's peace, under the sky.\n",
      "Spouse and partner, not left aside,\n",
      "In increments of twenty-five, they too ride.\n",
      "\n",
      "JPMorgan Chase, not to be outdone,\n",
      "Offers a plan under the same sun.\n",
      "For spouse and child, coverage they provide,\n",
      "In the face of uncertainty, a trusted guide.\n",
      "\n",
      "Supplemental term life, a choice so wise,\n",
      "With MetLife they partner, to organize.\n",
      "Will preparation, estate resolution, free,\n",
      "A comprehensive plan, as good as can be.\n",
      "\n",
      "Evidence of Insurability, a term so grave,\n",
      "Determines the coverage, one can save.\n",
      "At UBS, during open enrollment, no EOI sought,\n",
      "At JPMorgan, a different thought.\n",
      "\n",
      "Three times the cash compensation, or half a million cap,\n",
      "Without EOI, a new hire can tap.\n",
      "For spouse or partner, fifty thousand coverage in sight,\n",
      "Without EOI, a comforting light.\n",
      "\n",
      "In the world of finance, amidst the daily grind,\n",
      "Life insurance benefits, a peace of mind.\n",
      "UBS and JPMorgan, in this endeavor,\n",
      "Ensuring their employees are covered forever.\n"
     ]
    }
   ],
   "source": [
    "bismayan_chat(\"Write me a poem about this\")"
   ]
  },
  {
   "cell_type": "code",
   "execution_count": 13,
   "metadata": {},
   "outputs": [
    {
     "name": "stdout",
     "output_type": "stream",
     "text": [
      "\n",
      "\n",
      "\u001b[1m> Entering new AgentExecutor chain...\u001b[0m\n",
      "\u001b[32;1m\u001b[1;3m\n",
      "Invoking: `search_ubs_benefits` with `parental benefits`\n",
      "\n",
      "\n",
      "\u001b[0m\u001b[36;1m\u001b[1;3m[Document(page_content='or foster care placement of your child or the child of your \\ndomestic partner. \\n•  You may take Parental Leave in 20 consecutive weeks, or  \\nin two, 10-consecutive week blocks. Employees giving \\nbirth must begin Parental Leave on the date of delivery. \\nParental leave must be completed within one year of the \\nchild’s arrival.\\n•  Parental Leave Phase Back can help you ease back into \\nwork after Parental Leave. Employees may choose to return \\nto work three days per week for the first two weeks, while \\nbeing paid at 100%, before resuming a full work week.Grandparent Leave \\n•  Provides up to three consecutive days paid leave, for \\neligible employees, following the birth, adoption or  \\nfoster placement of a grandchild. \\nBack-Up Child and Adult Care\\n Whether you need in-home care, or prefer to use a Bright \\nHorizons center, UBS has a variety of options at your disposal \\nto help with back-up care, up to 20 days per year, including:', metadata={'source': './ubs-benefits-2022-at-a-glance.pdf', 'page': 4}), Document(page_content='basis through app-based messaging for:\\n    •   Pre-conception through family firsts, including \\npregnancy readiness, pre- and post-natal health,  \\nbirth plans and lactation.\\n    •   Parental well-being, including infant sleep and parent \\nfatigue, working parents, parenting alone, co-parenting, \\nLGBTQ+ support and childcare decision support.\\n    •   Family support, including 1:1 virtual health services and \\nhelp finding in-network providers.\\nMilk Stork \\n•  Milk Stork provides resources for breast-feeding mothers \\n(when traveling for business) and milk surrogates to pack \\nand ship their milk. \\n•  Milk Stork can help parents identify the breast pump best \\nfor them and assist in ordering a free insurance-provided \\npump. There is also support for parents on how to \\nassemble and use their pump once it is received.\\nParental Leave & Parental Leave Phase Back \\n•  If you are a new parent, you may be eligible for up to 20 \\nweeks of paid Parental Leave following the birth, adoption', metadata={'source': './ubs-benefits-2022-at-a-glance.pdf', 'page': 4}), Document(page_content='children cannot earn incentives. If you cover yourself and a child or children, but not a spouse/domestic partner, you will have access to complete more \\nwellness activities via MyActiveHealth in order to earn the maximum $800 incentive. Dependent children over the age of 18 can, however, register \\nand use MyActiveHealth. They just don’t receive the incentive. Eligible employees with a Benefits Base Salary (BBS) of less than $300,000 will get an \\nautomatic UBS contribution—this is the annual core contribution. This contribution amount is not subject to increase or decrease as the result of a \\nQualifying Life Event (QLE) within the plan year. UBS contributions to your Health Savings Account are contingent upon your being employed by UBS  \\non the date the contributions are made to the account.\\n \\n3.  Eligible compensation is defined as your gross eligible earnings prior to certain pre-tax deductions, as determined by the Plan administrator in its sole', metadata={'source': './ubs-benefits-2022-at-a-glance.pdf', 'page': 5})]\u001b[0m\u001b[32;1m\u001b[1;3m\n",
      "Invoking: `search_jpmc_benefits` with `parental benefits`\n",
      "\n",
      "\n",
      "\u001b[0m\u001b[33;1m\u001b[1;3m[Document(page_content='needs of our employees. Some of the programs that may be available to you include:\\n •Family Building Benefits\\n •Back-Up Child Care\\n •Business Resource Groups\\n •Career Management\\n •Elder and Adult Care \\nProgram\\n •Emergency Financial \\nAssistance\\n •JPMorgan Chase Health  & Wellness  Centers\\n •Lactation Support\\n •Legal & Financial \\nConsultation\\n •Matching Gifts Program\\n •parents@jpmc\\n •Short-Term Disability Plan\\n •Time Off Policies  \\n(paid and unpaid) •Tuition Assistance Program\\n •Volunteerism and Grants\\n •Wellness/Work-Life \\nSeminars\\n •SNOO infant smart sleeper \\nbassinet\\n •LGBT+ Health Concierge \\nService\\nFor more information on these programs and services, please go to me@jpmc .Employee Stock Purchase Plan\\nYou are eligible to enroll in the Plan during each annual enrollment period that occurs in the \\nfourth quarter provided that you are a U.S. benefits-eligible employee and you were hired on  \\nor before September 30 and your Total Annual Cash Compensation is less than $250,000.', metadata={'source': './2023_US_Highlights_Benefits_Program.pdf', 'page': 39}), Document(page_content='experience a qualified status change (such as marriage, divorce, or the birth or adoption of a \\nchild), you must make eligible benefits changes through the Benefits Web Center or by calling \\nHR Answers within 31 days1 of the qualifying event. \\n1  90 days if the qualifying event is the birth or adoption of a child. You will have 90 days from the qualified status change to add  \\nany newly eligible dependent should that dependent pass away within this 90-day period. Please contact HR Answers if this \\nsituation applies to you.\\n •Newborns’ and Mothers’ Health Protection Act. In accordance with the Newborns’ and \\nMothers’ Health Protection Act, group medical plans and health insurance issuers may not, \\nunder federal law, restrict benefits for any hospital length of stay in connection with \\nchildbirth for the mother or newborn child to less than 48 hours following a normal delivery, \\nor to less than 96 hours following a cesarean section. Further, the plan cannot require that', metadata={'source': './2023_US_Highlights_Benefits_Program.pdf', 'page': 42}), Document(page_content='24|Highlights of the 2023 JPMorgan Chase U.S. Benefits Program\\nFor employees living in all states except Arizona and OhioCoverage Categories\\nThe JPMorgan Chase Medical Plan offers four coverage categories to help match your  \\ncoverage needs:\\n •Employee Only\\n •Employee Plus One Adult  \\n(spouse or domestic partner) •Employee Plus Child(ren)\\n •Employee Plus Family  \\n(spouse or domestic partner plus child[ren])\\nCost for Coverage\\nYou and JPMorgan Chase share the cost of coverage under the Medical Plan. Your \\ncontributions are deducted from your pay on a before-tax basis — before federal (and, in \\nmost cases, state and local) income taxes are withheld. The amount you pay depends on the \\nlevel of your Total Annual Cash Compensation, the medical option you choose, where you \\nlive, the number and type of eligible dependents you cover, if you and your covered spouse/\\ndomestic partner use tobacco and if you and your covered spouse/domestic partner', metadata={'source': './2023_US_Highlights_Benefits_Program.pdf', 'page': 23})]\u001b[0m\u001b[32;1m\u001b[1;3mUBS and JPMorgan Chase both offer parental benefits to their employees, but the specifics of the plans differ.\n",
      "\n",
      "UBS provides up to 20 weeks of paid Parental Leave following the birth, adoption, or foster care placement of a child or the child of a domestic partner. This leave can be taken in 20 consecutive weeks or in two, 10-consecutive week blocks. Employees giving birth must begin Parental Leave on the date of delivery, and the leave must be completed within one year of the child’s arrival. UBS also offers a Parental Leave Phase Back program, which allows employees to return to work three days per week for the first two weeks, while being paid at 100%, before resuming a full work week. UBS also provides up to three consecutive days paid leave, for eligible employees, following the birth, adoption, or foster placement of a grandchild. Additional services include Back-Up Child and Adult Care, with a variety of options at your disposal to help with back-up care, up to 20 days per year.\n",
      "\n",
      "JPMorgan Chase offers a range of programs that may be available to employees, including Family Building Benefits, Back-Up Child Care, Lactation Support, and parents@jpmc. They also offer a Short-Term Disability Plan and Time Off Policies (paid and unpaid). Specific details about the duration and conditions of parental leave at JPMorgan Chase are not provided in the documents. However, in the event of a qualified status change such as the birth or adoption of a child, employees must make eligible benefits changes within 90 days of the qualifying event. The company also adheres to the Newborns’ and Mothers’ Health Protection Act, which stipulates that group medical plans and health insurance issuers may not restrict benefits for any hospital length of stay in connection with childbirth for the mother or newborn child to less than 48 hours following a normal delivery, or to less than 96 hours following a cesarean section.\u001b[0m\n",
      "\n",
      "\u001b[1m> Finished chain.\u001b[0m\n",
      "UBS and JPMorgan Chase both offer parental benefits to their employees, but the specifics of the plans differ.\n",
      "\n",
      "UBS provides up to 20 weeks of paid Parental Leave following the birth, adoption, or foster care placement of a child or the child of a domestic partner. This leave can be taken in 20 consecutive weeks or in two, 10-consecutive week blocks. Employees giving birth must begin Parental Leave on the date of delivery, and the leave must be completed within one year of the child’s arrival. UBS also offers a Parental Leave Phase Back program, which allows employees to return to work three days per week for the first two weeks, while being paid at 100%, before resuming a full work week. UBS also provides up to three consecutive days paid leave, for eligible employees, following the birth, adoption, or foster placement of a grandchild. Additional services include Back-Up Child and Adult Care, with a variety of options at your disposal to help with back-up care, up to 20 days per year.\n",
      "\n",
      "JPMorgan Chase offers a range of programs that may be available to employees, including Family Building Benefits, Back-Up Child Care, Lactation Support, and parents@jpmc. They also offer a Short-Term Disability Plan and Time Off Policies (paid and unpaid). Specific details about the duration and conditions of parental leave at JPMorgan Chase are not provided in the documents. However, in the event of a qualified status change such as the birth or adoption of a child, employees must make eligible benefits changes within 90 days of the qualifying event. The company also adheres to the Newborns’ and Mothers’ Health Protection Act, which stipulates that group medical plans and health insurance issuers may not restrict benefits for any hospital length of stay in connection with childbirth for the mother or newborn child to less than 48 hours following a normal delivery, or to less than 96 hours following a cesarean section.\n"
     ]
    }
   ],
   "source": [
    "bismayan_chat(\"Compare the parental benefits of the two companies\")"
   ]
  },
  {
   "cell_type": "code",
   "execution_count": 14,
   "metadata": {},
   "outputs": [
    {
     "name": "stdout",
     "output_type": "stream",
     "text": [
      "\n",
      "\n",
      "\u001b[1m> Entering new AgentExecutor chain...\u001b[0m\n",
      "\u001b[32;1m\u001b[1;3mIn the halls of UBS and JPMorgan Chase,\n",
      "A new life begins, a parental embrace.\n",
      "Twenty weeks of leave, a generous gift,\n",
      "For UBS employees, a major shift.\n",
      "\n",
      "A child is born, or adopted with love,\n",
      "A blessing, a miracle, from above.\n",
      "UBS offers time, to bond and to hold,\n",
      "Precious moments, more valuable than gold.\n",
      "\n",
      "And at JPMorgan, the benefits abound,\n",
      "Family Building, Child Care, support is found.\n",
      "Lactation rooms, and time off policies,\n",
      "Catering to new parents' necessities.\n",
      "\n",
      "Ninety days to adjust, to the change of life,\n",
      "Whether you're a husband, partner, or wife.\n",
      "The Newborns’ Act, a protective shield,\n",
      "Ensuring mother and child, to pressures, do not yield.\n",
      "\n",
      "Two companies, two paths, yet a common thread,\n",
      "Understanding the need, for a parent's bed.\n",
      "To nurture, to love, to watch them grow,\n",
      "In the corporate world, a softer glow.\u001b[0m\n",
      "\n",
      "\u001b[1m> Finished chain.\u001b[0m\n",
      "In the halls of UBS and JPMorgan Chase,\n",
      "A new life begins, a parental embrace.\n",
      "Twenty weeks of leave, a generous gift,\n",
      "For UBS employees, a major shift.\n",
      "\n",
      "A child is born, or adopted with love,\n",
      "A blessing, a miracle, from above.\n",
      "UBS offers time, to bond and to hold,\n",
      "Precious moments, more valuable than gold.\n",
      "\n",
      "And at JPMorgan, the benefits abound,\n",
      "Family Building, Child Care, support is found.\n",
      "Lactation rooms, and time off policies,\n",
      "Catering to new parents' necessities.\n",
      "\n",
      "Ninety days to adjust, to the change of life,\n",
      "Whether you're a husband, partner, or wife.\n",
      "The Newborns’ Act, a protective shield,\n",
      "Ensuring mother and child, to pressures, do not yield.\n",
      "\n",
      "Two companies, two paths, yet a common thread,\n",
      "Understanding the need, for a parent's bed.\n",
      "To nurture, to love, to watch them grow,\n",
      "In the corporate world, a softer glow.\n"
     ]
    }
   ],
   "source": [
    "bismayan_chat(\"Write me a poem about this\")"
   ]
  },
  {
   "cell_type": "code",
   "execution_count": 16,
   "metadata": {},
   "outputs": [
    {
     "name": "stdout",
     "output_type": "stream",
     "text": [
      "\n",
      "\n",
      "\u001b[1m> Entering new AgentExecutor chain...\u001b[0m\n",
      "\u001b[32;1m\u001b[1;3mHello Bismayan! How can I assist you today as a UBS employee?\u001b[0m\n",
      "\n",
      "\u001b[1m> Finished chain.\u001b[0m\n",
      "Hello Bismayan! How can I assist you today as a UBS employee?\n"
     ]
    }
   ],
   "source": [
    "bismayan_chat(\" Hello my name is Bismayan. I am an employee of UBS\")"
   ]
  },
  {
   "cell_type": "code",
   "execution_count": 17,
   "metadata": {},
   "outputs": [
    {
     "name": "stdout",
     "output_type": "stream",
     "text": [
      "\n",
      "\n",
      "\u001b[1m> Entering new AgentExecutor chain...\u001b[0m\n",
      "\u001b[32;1m\u001b[1;3m\n",
      "Invoking: `search_ubs_benefits` with `401k options`\n",
      "\n",
      "\n",
      "\u001b[0m\u001b[36;1m\u001b[1;3m[Document(page_content='with a Retirement Contribution equal to a percentage of \\nyour eligible compensation.3 Visit goto/usbeneﬁts  to \\nlearn more.\\nEquity Plus Plan\\n•  Voluntary after-tax purchase plan that allows eligible \\nemployees to purchase UBS group stock and receive  \\none notional share for every three shares purchased.\\nEmployee Pricing\\n•  Less expensive ways to trade equities and options  \\nthrough your accounts at UBS.\\nUBS Financial Wellness\\n•  Education, digital tools and licensed ﬁnancial coaches \\nto support informed ﬁnancial decisions. Learn more at \\nfinancialwellness.ubs.com/fw/UBS  or +1-888-FIN \\nWELL (+1-888-346-9355).\\nShort-Term Disability (STD)4\\n•  The Firm provides Short-Term Disability coverage for up  \\nto 26 weeks to eligible employees. The STD program \\n(salary continuation) is intended to provide income \\nprotection when an employee is unable to work due  \\nto a non-work related injury, illness or other disability \\nincluding pregnancy.', metadata={'source': './ubs-benefits-2022-at-a-glance.pdf', 'page': 3}), Document(page_content='discretion. Eligible earnings are (as applicable) your salary and any bonus and commissions. Eligible earnings could also include (as applicable) additional \\ncompensation, some types of recurring awards and supplemental payment. Plan limits and IRS limits apply.\\n     \\n    If you are eligible, UBS provides you with a Retirement Contribution equal to a percentage of your eligible compensation. Generally, the percentage is \\nbased on your years of service with UBS as of the beginning of the applicable Plan year. You do not have to contribute to the Plan in order to receive \\na Retirement Contribution. You must generally be actively employed by UBS on the last business day of the applicable Plan year in order to receive a \\nRetirement Contribution; subject to certain exceptions set forth in the 401(k) Plan provided, however, that no Company Retirement Contribution will be', metadata={'source': './ubs-benefits-2022-at-a-glance.pdf', 'page': 5}), Document(page_content='Flexible Spending Account\\n•  Three accounts to choose from, depending on the medical \\nplan in which you enroll, and your needs: Healthcare \\nFSA (general purpose), Limited Purpose FSA (dental and \\nvision), or Dependent Care FSA. In addition, UBS matches \\n100% of your contribution up to $1,000 per year to your \\nDependent Care FSA if you’re eligible to participate and \\nyour 2023 Beneﬁts Base Salary is less than $100,000.\\nHealth Savings Account (HSA)\\n•  Opportunity to save for future healthcare expenses with \\nyour own pre-tax contributions as well as contributions \\nfrom UBS on your behalf. HSA contributions from UBS \\ninclude the annual core contribution of up to $600 and \\nwellness incentives of up to $400 or $800.2 \\n401(k) Plan\\n•  This retirement saving vehicle gives you a way to save \\nand invest your before and after-tax contributions, up to \\nmaximum IRS deferral limits. UBS provides a company \\nmatching contribution of up to $8,000 per year, along', metadata={'source': './ubs-benefits-2022-at-a-glance.pdf', 'page': 3})]\u001b[0m\u001b[32;1m\u001b[1;3mAs a UBS employee, you have access to a 401(k) Plan which is a retirement saving vehicle that allows you to save and invest your before and after-tax contributions, up to maximum IRS deferral limits. \n",
      "\n",
      "UBS provides a company matching contribution of up to $8,000 per year. Additionally, UBS provides you with a Retirement Contribution equal to a percentage of your eligible compensation. The percentage is generally based on your years of service with UBS as of the beginning of the applicable Plan year. \n",
      "\n",
      "You do not have to contribute to the Plan in order to receive a Retirement Contribution. However, you must generally be actively employed by UBS on the last business day of the applicable Plan year in order to receive a Retirement Contribution, subject to certain exceptions set forth in the 401(k) Plan.\n",
      "\n",
      "Please visit goto/usbeneﬁts to learn more about your 401(k) options.\u001b[0m\n",
      "\n",
      "\u001b[1m> Finished chain.\u001b[0m\n",
      "As a UBS employee, you have access to a 401(k) Plan which is a retirement saving vehicle that allows you to save and invest your before and after-tax contributions, up to maximum IRS deferral limits. \n",
      "\n",
      "UBS provides a company matching contribution of up to $8,000 per year. Additionally, UBS provides you with a Retirement Contribution equal to a percentage of your eligible compensation. The percentage is generally based on your years of service with UBS as of the beginning of the applicable Plan year. \n",
      "\n",
      "You do not have to contribute to the Plan in order to receive a Retirement Contribution. However, you must generally be actively employed by UBS on the last business day of the applicable Plan year in order to receive a Retirement Contribution, subject to certain exceptions set forth in the 401(k) Plan.\n",
      "\n",
      "Please visit goto/usbeneﬁts to learn more about your 401(k) options.\n"
     ]
    }
   ],
   "source": [
    "bismayan_chat(\"I want to know what are the 401k options open to me\")"
   ]
  },
  {
   "cell_type": "code",
   "execution_count": 18,
   "metadata": {},
   "outputs": [
    {
     "name": "stdout",
     "output_type": "stream",
     "text": [
      "\n",
      "\n",
      "\u001b[1m> Entering new AgentExecutor chain...\u001b[0m\n",
      "\u001b[32;1m\u001b[1;3m\n",
      "Invoking: `search_jpmc_benefits` with `401k options`\n",
      "\n",
      "\n",
      "\u001b[0m\u001b[33;1m\u001b[1;3m[Document(page_content='You can find detailed fund information, including fund performance, fund fact sheets and a \\nprospectus for the Common Stock Fund. You will also find the Investment Fund Profiles  \\nbrochure, which explains the investment risks and strategies for each investment option within \\nthe plan and provides a glossary of important investment terms. To receive paper copies of  \\nthe information provided online, free of charge, please call the 401(k) Savings Plan Call Center.\\nPayment Options When You Leave\\nWhen you leave JPMorgan Chase, your vested account balance is payable in the form of a single \\nlump sum, rollover to an IRA or another qualified plan, or installment payments. Please note:   \\nIf your vested account balance (including loans) is less than $1,000 when you leave and you do \\nnot make a distribution election with respect to that balance, your benefit will be paid, as soon \\nas practicable, in a single cash payment in the form of a check.\\nMy Finances and Me', metadata={'source': './2023_US_Highlights_Benefits_Program.pdf', 'page': 38}), Document(page_content='that’s right for you.Investing \\nThe plan offers two ways to invest to give you flexibility to choose how you make your \\ninvestment decisions — and the tools you’ll need to build a balanced retirement portfolio.\\n •No Assembly Required:  If you lack the time, interest or expertise to research, manage and \\nmonitor your investments in the plan, you can select one of the Target Date Funds offered \\nunder the plan. Each Target Date Fund corresponds to an expected “target” year — the year that \\nyou plan to start withdrawing from your account (generally your retirement date). The funds are \\nalready diversified with an asset mix that automatically becomes more conservative over time.\\n •Do It Yourself:  If you want a more hands-on approach, you can create your own diversified \\ninvestment mix by choosing a combination of the plan’s Core Funds .\\nTo learn more about the plan’s investment options, visit the 401(k) Savings Plan Web Center.', metadata={'source': './2023_US_Highlights_Benefits_Program.pdf', 'page': 38}), Document(page_content='you can make the most of the plan by saving and investing. \\nEnrolling\\nIf you take no action within the first 31 days after your hire/eligibility date, you will be \\nautomatically enrolled at a before-tax contribution rate of 3% of Ongoing Compensation,  \\nwhich includes base salary/regular pay and non-annual cash incentives.1\\nYour 3% before-tax contributions will be invested in a Target Date Fund based on your age and \\nan assumed retirement age of 65. Your contributions will increase by 1% annually, up to a total \\ncontribution rate of 10%. \\nYou may wish to consider whether this contribution rate will be enough to meet your financial \\ngoals, and if not, choose a contribution rate that suits your needs. Keep in mind that the plan \\noffers two ways to save on a tax-advantaged basis. \\nIf you don’t want to be enrolled automatically, you can either enroll yourself or you can opt out \\nof automatic enrollment via the 401(k) Savings P lan Call Center or Web Center prior to the end', metadata={'source': './2023_US_Highlights_Benefits_Program.pdf', 'page': 36})]\u001b[0m\u001b[32;1m\u001b[1;3mAt JP Morgan Chase, the 401(k) plan offers two ways to invest to give you flexibility in making your investment decisions:\n",
      "\n",
      "1. **No Assembly Required**: If you prefer not to manage your investments directly, you can select one of the Target Date Funds offered under the plan. Each Target Date Fund corresponds to an expected “target” year — the year that you plan to start withdrawing from your account (generally your retirement date). The funds are already diversified with an asset mix that automatically becomes more conservative over time.\n",
      "\n",
      "2. **Do It Yourself**: If you prefer a more hands-on approach, you can create your own diversified investment mix by choosing a combination of the plan’s Core Funds.\n",
      "\n",
      "If you take no action within the first 31 days after your hire/eligibility date, you will be automatically enrolled at a before-tax contribution rate of 3% of Ongoing Compensation, which includes base salary/regular pay and non-annual cash incentives. Your 3% before-tax contributions will be invested in a Target Date Fund based on your age and an assumed retirement age of 65. Your contributions will increase by 1% annually, up to a total contribution rate of 10%.\n",
      "\n",
      "When you leave JPMorgan Chase, your vested account balance is payable in the form of a single lump sum, rollover to an IRA or another qualified plan, or installment payments.\n",
      "\n",
      "Please note that the specifics of the company matching contributions are not mentioned in the provided documents. For detailed information, you may want to contact JP Morgan Chase's HR department or refer to your employee handbook.\u001b[0m\n",
      "\n",
      "\u001b[1m> Finished chain.\u001b[0m\n",
      "At JP Morgan Chase, the 401(k) plan offers two ways to invest to give you flexibility in making your investment decisions:\n",
      "\n",
      "1. **No Assembly Required**: If you prefer not to manage your investments directly, you can select one of the Target Date Funds offered under the plan. Each Target Date Fund corresponds to an expected “target” year — the year that you plan to start withdrawing from your account (generally your retirement date). The funds are already diversified with an asset mix that automatically becomes more conservative over time.\n",
      "\n",
      "2. **Do It Yourself**: If you prefer a more hands-on approach, you can create your own diversified investment mix by choosing a combination of the plan’s Core Funds.\n",
      "\n",
      "If you take no action within the first 31 days after your hire/eligibility date, you will be automatically enrolled at a before-tax contribution rate of 3% of Ongoing Compensation, which includes base salary/regular pay and non-annual cash incentives. Your 3% before-tax contributions will be invested in a Target Date Fund based on your age and an assumed retirement age of 65. Your contributions will increase by 1% annually, up to a total contribution rate of 10%.\n",
      "\n",
      "When you leave JPMorgan Chase, your vested account balance is payable in the form of a single lump sum, rollover to an IRA or another qualified plan, or installment payments.\n",
      "\n",
      "Please note that the specifics of the company matching contributions are not mentioned in the provided documents. For detailed information, you may want to contact JP Morgan Chase's HR department or refer to your employee handbook.\n"
     ]
    }
   ],
   "source": [
    "bismayan_chat(\"How does that comapre with JP Morgan\")"
   ]
  },
  {
   "cell_type": "code",
   "execution_count": 19,
   "metadata": {},
   "outputs": [
    {
     "name": "stdout",
     "output_type": "stream",
     "text": [
      "\n",
      "\n",
      "\u001b[1m> Entering new AgentExecutor chain...\u001b[0m\n",
      "\u001b[32;1m\u001b[1;3mDetermining which 401(k) plan is better between UBS and JP Morgan Chase depends on various factors and personal circumstances. Here are some points to consider:\n",
      "\n",
      "1. **Company Match**: UBS provides a company matching contribution of up to $8,000 per year. The details of JP Morgan Chase's matching contributions are not provided in the documents, so it's hard to compare on this point. However, a higher company match generally means more free money towards your retirement.\n",
      "\n",
      "2. **Automatic Enrollment and Contribution Increase**: JP Morgan Chase automatically enrolls employees at a 3% contribution rate, which increases by 1% annually up to 10%. This can be beneficial for those who prefer a \"set it and forget it\" approach to retirement savings. UBS does not mention automatic enrollment or contribution increases.\n",
      "\n",
      "3. **Investment Options**: Both plans offer diversified investment options. JP Morgan Chase provides the option of Target Date Funds, which automatically adjust the asset mix over time, becoming more conservative as you near retirement. This can be a good option for those who prefer a hands-off approach to investing.\n",
      "\n",
      "4. **Vesting and Distribution**: Both plans allow for distributions in the form of a lump sum, rollover to an IRA or another qualified plan, or installment payments upon leaving the company. The specifics of vesting schedules (how long you need to work at the company before you own the employer contributions) are not provided in the documents.\n",
      "\n",
      "5. **Personal Factors**: Your personal financial situation, retirement goals, and investment preferences will also play a big role in determining which plan is better for you.\n",
      "\n",
      "In conclusion, it's hard to definitively say which plan is better without more information. It's recommended to consult with a financial advisor or retirement plan expert to understand which plan would be more beneficial for your specific situation.\u001b[0m\n",
      "\n",
      "\u001b[1m> Finished chain.\u001b[0m\n",
      "Determining which 401(k) plan is better between UBS and JP Morgan Chase depends on various factors and personal circumstances. Here are some points to consider:\n",
      "\n",
      "1. **Company Match**: UBS provides a company matching contribution of up to $8,000 per year. The details of JP Morgan Chase's matching contributions are not provided in the documents, so it's hard to compare on this point. However, a higher company match generally means more free money towards your retirement.\n",
      "\n",
      "2. **Automatic Enrollment and Contribution Increase**: JP Morgan Chase automatically enrolls employees at a 3% contribution rate, which increases by 1% annually up to 10%. This can be beneficial for those who prefer a \"set it and forget it\" approach to retirement savings. UBS does not mention automatic enrollment or contribution increases.\n",
      "\n",
      "3. **Investment Options**: Both plans offer diversified investment options. JP Morgan Chase provides the option of Target Date Funds, which automatically adjust the asset mix over time, becoming more conservative as you near retirement. This can be a good option for those who prefer a hands-off approach to investing.\n",
      "\n",
      "4. **Vesting and Distribution**: Both plans allow for distributions in the form of a lump sum, rollover to an IRA or another qualified plan, or installment payments upon leaving the company. The specifics of vesting schedules (how long you need to work at the company before you own the employer contributions) are not provided in the documents.\n",
      "\n",
      "5. **Personal Factors**: Your personal financial situation, retirement goals, and investment preferences will also play a big role in determining which plan is better for you.\n",
      "\n",
      "In conclusion, it's hard to definitively say which plan is better without more information. It's recommended to consult with a financial advisor or retirement plan expert to understand which plan would be more beneficial for your specific situation.\n"
     ]
    }
   ],
   "source": [
    "bismayan_chat(\"Which is better and why\")"
   ]
  },
  {
   "cell_type": "code",
   "execution_count": 20,
   "metadata": {},
   "outputs": [
    {
     "name": "stdout",
     "output_type": "stream",
     "text": [
      "\n",
      "\n",
      "\u001b[1m> Entering new AgentExecutor chain...\u001b[0m\n",
      "\u001b[32;1m\u001b[1;3m\n",
      "Invoking: `search_ubs_benefits` with `parental benefits`\n",
      "\n",
      "\n",
      "\u001b[0m\u001b[36;1m\u001b[1;3m[Document(page_content='or foster care placement of your child or the child of your \\ndomestic partner. \\n•  You may take Parental Leave in 20 consecutive weeks, or  \\nin two, 10-consecutive week blocks. Employees giving \\nbirth must begin Parental Leave on the date of delivery. \\nParental leave must be completed within one year of the \\nchild’s arrival.\\n•  Parental Leave Phase Back can help you ease back into \\nwork after Parental Leave. Employees may choose to return \\nto work three days per week for the first two weeks, while \\nbeing paid at 100%, before resuming a full work week.Grandparent Leave \\n•  Provides up to three consecutive days paid leave, for \\neligible employees, following the birth, adoption or  \\nfoster placement of a grandchild. \\nBack-Up Child and Adult Care\\n Whether you need in-home care, or prefer to use a Bright \\nHorizons center, UBS has a variety of options at your disposal \\nto help with back-up care, up to 20 days per year, including:', metadata={'source': './ubs-benefits-2022-at-a-glance.pdf', 'page': 4}), Document(page_content='basis through app-based messaging for:\\n    •   Pre-conception through family firsts, including \\npregnancy readiness, pre- and post-natal health,  \\nbirth plans and lactation.\\n    •   Parental well-being, including infant sleep and parent \\nfatigue, working parents, parenting alone, co-parenting, \\nLGBTQ+ support and childcare decision support.\\n    •   Family support, including 1:1 virtual health services and \\nhelp finding in-network providers.\\nMilk Stork \\n•  Milk Stork provides resources for breast-feeding mothers \\n(when traveling for business) and milk surrogates to pack \\nand ship their milk. \\n•  Milk Stork can help parents identify the breast pump best \\nfor them and assist in ordering a free insurance-provided \\npump. There is also support for parents on how to \\nassemble and use their pump once it is received.\\nParental Leave & Parental Leave Phase Back \\n•  If you are a new parent, you may be eligible for up to 20 \\nweeks of paid Parental Leave following the birth, adoption', metadata={'source': './ubs-benefits-2022-at-a-glance.pdf', 'page': 4}), Document(page_content='children cannot earn incentives. If you cover yourself and a child or children, but not a spouse/domestic partner, you will have access to complete more \\nwellness activities via MyActiveHealth in order to earn the maximum $800 incentive. Dependent children over the age of 18 can, however, register \\nand use MyActiveHealth. They just don’t receive the incentive. Eligible employees with a Benefits Base Salary (BBS) of less than $300,000 will get an \\nautomatic UBS contribution—this is the annual core contribution. This contribution amount is not subject to increase or decrease as the result of a \\nQualifying Life Event (QLE) within the plan year. UBS contributions to your Health Savings Account are contingent upon your being employed by UBS  \\non the date the contributions are made to the account.\\n \\n3.  Eligible compensation is defined as your gross eligible earnings prior to certain pre-tax deductions, as determined by the Plan administrator in its sole', metadata={'source': './ubs-benefits-2022-at-a-glance.pdf', 'page': 5})]\u001b[0m\u001b[32;1m\u001b[1;3mAs a UBS employee, you have access to the following parental benefits:\n",
      "\n",
      "1. **Parental Leave**: You may be eligible for up to 20 weeks of paid Parental Leave following the birth, adoption, or foster care placement of your child or the child of your domestic partner. You may take Parental Leave in 20 consecutive weeks, or in two, 10-consecutive week blocks. Employees giving birth must begin Parental Leave on the date of delivery. Parental leave must be completed within one year of the child’s arrival.\n",
      "\n",
      "2. **Parental Leave Phase Back**: This can help you ease back into work after Parental Leave. Employees may choose to return to work three days per week for the first two weeks, while being paid at 100%, before resuming a full work week.\n",
      "\n",
      "3. **Grandparent Leave**: Provides up to three consecutive days paid leave, for eligible employees, following the birth, adoption, or foster placement of a grandchild.\n",
      "\n",
      "4. **Back-Up Child and Adult Care**: Whether you need in-home care, or prefer to use a Bright Horizons center, UBS has a variety of options at your disposal to help with back-up care, up to 20 days per year.\n",
      "\n",
      "5. **Milk Stork**: Milk Stork provides resources for breastfeeding mothers (when traveling for business) and milk surrogates to pack and ship their milk. Milk Stork can help parents identify the breast pump best for them and assist in ordering a free insurance-provided pump. There is also support for parents on how to assemble and use their pump once it is received.\n",
      "\n",
      "6. **Family Support**: This includes 1:1 virtual health services and help finding in-network providers. It also covers a range of topics from pre-conception through family firsts, including pregnancy readiness, pre- and post-natal health, birth plans, and lactation. It also includes parental well-being, including infant sleep and parent fatigue, working parents, parenting alone, co-parenting, LGBTQ+ support, and childcare decision support.\u001b[0m\n",
      "\n",
      "\u001b[1m> Finished chain.\u001b[0m\n",
      "As a UBS employee, you have access to the following parental benefits:\n",
      "\n",
      "1. **Parental Leave**: You may be eligible for up to 20 weeks of paid Parental Leave following the birth, adoption, or foster care placement of your child or the child of your domestic partner. You may take Parental Leave in 20 consecutive weeks, or in two, 10-consecutive week blocks. Employees giving birth must begin Parental Leave on the date of delivery. Parental leave must be completed within one year of the child’s arrival.\n",
      "\n",
      "2. **Parental Leave Phase Back**: This can help you ease back into work after Parental Leave. Employees may choose to return to work three days per week for the first two weeks, while being paid at 100%, before resuming a full work week.\n",
      "\n",
      "3. **Grandparent Leave**: Provides up to three consecutive days paid leave, for eligible employees, following the birth, adoption, or foster placement of a grandchild.\n",
      "\n",
      "4. **Back-Up Child and Adult Care**: Whether you need in-home care, or prefer to use a Bright Horizons center, UBS has a variety of options at your disposal to help with back-up care, up to 20 days per year.\n",
      "\n",
      "5. **Milk Stork**: Milk Stork provides resources for breastfeeding mothers (when traveling for business) and milk surrogates to pack and ship their milk. Milk Stork can help parents identify the breast pump best for them and assist in ordering a free insurance-provided pump. There is also support for parents on how to assemble and use their pump once it is received.\n",
      "\n",
      "6. **Family Support**: This includes 1:1 virtual health services and help finding in-network providers. It also covers a range of topics from pre-conception through family firsts, including pregnancy readiness, pre- and post-natal health, birth plans, and lactation. It also includes parental well-being, including infant sleep and parent fatigue, working parents, parenting alone, co-parenting, LGBTQ+ support, and childcare decision support.\n"
     ]
    }
   ],
   "source": [
    "bismayan_chat(\"can you tell me the parental benefits available to me?\")"
   ]
  },
  {
   "cell_type": "code",
   "execution_count": 21,
   "metadata": {},
   "outputs": [
    {
     "name": "stdout",
     "output_type": "stream",
     "text": [
      "\n",
      "\n",
      "\u001b[1m> Entering new AgentExecutor chain...\u001b[0m\n",
      "\u001b[32;1m\u001b[1;3m\n",
      "Invoking: `search_jpmc_benefits` with `parental benefits`\n",
      "\n",
      "\n",
      "\u001b[0m\u001b[33;1m\u001b[1;3m[Document(page_content='needs of our employees. Some of the programs that may be available to you include:\\n •Family Building Benefits\\n •Back-Up Child Care\\n •Business Resource Groups\\n •Career Management\\n •Elder and Adult Care \\nProgram\\n •Emergency Financial \\nAssistance\\n •JPMorgan Chase Health  & Wellness  Centers\\n •Lactation Support\\n •Legal & Financial \\nConsultation\\n •Matching Gifts Program\\n •parents@jpmc\\n •Short-Term Disability Plan\\n •Time Off Policies  \\n(paid and unpaid) •Tuition Assistance Program\\n •Volunteerism and Grants\\n •Wellness/Work-Life \\nSeminars\\n •SNOO infant smart sleeper \\nbassinet\\n •LGBT+ Health Concierge \\nService\\nFor more information on these programs and services, please go to me@jpmc .Employee Stock Purchase Plan\\nYou are eligible to enroll in the Plan during each annual enrollment period that occurs in the \\nfourth quarter provided that you are a U.S. benefits-eligible employee and you were hired on  \\nor before September 30 and your Total Annual Cash Compensation is less than $250,000.', metadata={'source': './2023_US_Highlights_Benefits_Program.pdf', 'page': 39}), Document(page_content='experience a qualified status change (such as marriage, divorce, or the birth or adoption of a \\nchild), you must make eligible benefits changes through the Benefits Web Center or by calling \\nHR Answers within 31 days1 of the qualifying event. \\n1  90 days if the qualifying event is the birth or adoption of a child. You will have 90 days from the qualified status change to add  \\nany newly eligible dependent should that dependent pass away within this 90-day period. Please contact HR Answers if this \\nsituation applies to you.\\n •Newborns’ and Mothers’ Health Protection Act. In accordance with the Newborns’ and \\nMothers’ Health Protection Act, group medical plans and health insurance issuers may not, \\nunder federal law, restrict benefits for any hospital length of stay in connection with \\nchildbirth for the mother or newborn child to less than 48 hours following a normal delivery, \\nor to less than 96 hours following a cesarean section. Further, the plan cannot require that', metadata={'source': './2023_US_Highlights_Benefits_Program.pdf', 'page': 42}), Document(page_content='24|Highlights of the 2023 JPMorgan Chase U.S. Benefits Program\\nFor employees living in all states except Arizona and OhioCoverage Categories\\nThe JPMorgan Chase Medical Plan offers four coverage categories to help match your  \\ncoverage needs:\\n •Employee Only\\n •Employee Plus One Adult  \\n(spouse or domestic partner) •Employee Plus Child(ren)\\n •Employee Plus Family  \\n(spouse or domestic partner plus child[ren])\\nCost for Coverage\\nYou and JPMorgan Chase share the cost of coverage under the Medical Plan. Your \\ncontributions are deducted from your pay on a before-tax basis — before federal (and, in \\nmost cases, state and local) income taxes are withheld. The amount you pay depends on the \\nlevel of your Total Annual Cash Compensation, the medical option you choose, where you \\nlive, the number and type of eligible dependents you cover, if you and your covered spouse/\\ndomestic partner use tobacco and if you and your covered spouse/domestic partner', metadata={'source': './2023_US_Highlights_Benefits_Program.pdf', 'page': 23})]\u001b[0m\u001b[32;1m\u001b[1;3mAs a JPMC employee, you have access to the following parental benefits:\n",
      "\n",
      "1. **Family Building Benefits**: These benefits could include fertility treatments, adoption assistance, and surrogacy assistance. The specifics are not provided in the documents, so you may want to check with HR for more details.\n",
      "\n",
      "2. **Back-Up Child Care**: This benefit can be helpful when your regular child care arrangements fall through.\n",
      "\n",
      "3. **Lactation Support**: This could include resources and support for breastfeeding mothers, possibly including lactation consultation and breast pump assistance.\n",
      "\n",
      "4. **Time Off Policies**: JPMC likely offers maternity and paternity leave policies, but the specifics are not provided in the documents. You should check with HR for details on how much time off is offered and whether it's paid or unpaid.\n",
      "\n",
      "5. **SNOO Infant Smart Sleeper Bassinet**: This is a high-tech bassinet that can help soothe a baby to sleep with automatic rocking and white noise.\n",
      "\n",
      "6. **Newborns’ and Mothers’ Health Protection Act**: In accordance with this act, group medical plans and health insurance issuers may not, under federal law, restrict benefits for any hospital length of stay in connection with childbirth for the mother or newborn child to less than 48 hours following a normal delivery, or to less than 96 hours following a cesarean section.\n",
      "\n",
      "7. **parents@jpmc**: This could be a resource group or program specifically for parents at JPMC.\n",
      "\n",
      "For more information on these programs and services, you can go to the me@jpmc portal or contact HR.\u001b[0m\n",
      "\n",
      "\u001b[1m> Finished chain.\u001b[0m\n",
      "As a JPMC employee, you have access to the following parental benefits:\n",
      "\n",
      "1. **Family Building Benefits**: These benefits could include fertility treatments, adoption assistance, and surrogacy assistance. The specifics are not provided in the documents, so you may want to check with HR for more details.\n",
      "\n",
      "2. **Back-Up Child Care**: This benefit can be helpful when your regular child care arrangements fall through.\n",
      "\n",
      "3. **Lactation Support**: This could include resources and support for breastfeeding mothers, possibly including lactation consultation and breast pump assistance.\n",
      "\n",
      "4. **Time Off Policies**: JPMC likely offers maternity and paternity leave policies, but the specifics are not provided in the documents. You should check with HR for details on how much time off is offered and whether it's paid or unpaid.\n",
      "\n",
      "5. **SNOO Infant Smart Sleeper Bassinet**: This is a high-tech bassinet that can help soothe a baby to sleep with automatic rocking and white noise.\n",
      "\n",
      "6. **Newborns’ and Mothers’ Health Protection Act**: In accordance with this act, group medical plans and health insurance issuers may not, under federal law, restrict benefits for any hospital length of stay in connection with childbirth for the mother or newborn child to less than 48 hours following a normal delivery, or to less than 96 hours following a cesarean section.\n",
      "\n",
      "7. **parents@jpmc**: This could be a resource group or program specifically for parents at JPMC.\n",
      "\n",
      "For more information on these programs and services, you can go to the me@jpmc portal or contact HR.\n"
     ]
    }
   ],
   "source": [
    "bismayan_chat(\"I am an employee of JPMC. can you tell me the parental benefits available to me?\")"
   ]
  },
  {
   "cell_type": "code",
   "execution_count": 22,
   "metadata": {},
   "outputs": [
    {
     "name": "stdout",
     "output_type": "stream",
     "text": [
      "\n",
      "\n",
      "\u001b[1m> Entering new AgentExecutor chain...\u001b[0m\n",
      "\u001b[32;1m\u001b[1;3mAs an AI, I don't have direct access to documents. However, I can generate responses based on the information that has been programmed into me. For specific queries, I can use programmed functions to search for relevant information from a predefined set of sources. In this case, I used functions to search for information about employee benefits at UBS and JPMC. The exact sources of this information are not disclosed to me.\u001b[0m\n",
      "\n",
      "\u001b[1m> Finished chain.\u001b[0m\n",
      "As an AI, I don't have direct access to documents. However, I can generate responses based on the information that has been programmed into me. For specific queries, I can use programmed functions to search for relevant information from a predefined set of sources. In this case, I used functions to search for information about employee benefits at UBS and JPMC. The exact sources of this information are not disclosed to me.\n"
     ]
    }
   ],
   "source": [
    "bismayan_chat(\"What documents do you have access to?\")"
   ]
  },
  {
   "cell_type": "code",
   "execution_count": 23,
   "metadata": {},
   "outputs": [
    {
     "name": "stdout",
     "output_type": "stream",
     "text": [
      "\n",
      "\n",
      "\u001b[1m> Entering new AgentExecutor chain...\u001b[0m\n",
      "\u001b[32;1m\u001b[1;3m\n",
      "Invoking: `search_jpmc_benefits` with `vision plan`\n",
      "\n",
      "\n",
      "\u001b[0m\u001b[33;1m\u001b[1;3m[Document(page_content='28|Highlights of the 2023 JPMorgan Chase U.S. Benefits Program\\nFor employees living in all states except Arizona and OhioVision Plan\\nThe JPMorgan Chase Vision Plan, administered by EyeMed, helps you pay for covered vision \\nexpenses, such as eye examinations, lenses (including contact lenses) and eyeglass frames. \\nWhen you seek care from a vision care professional within the plan’s network, you will have no \\ncopayment for your vision exam. If you choose to seek care outside the network, you will be \\nreimbursed up to a specified dollar limit. EyeMed offers vision care coverage through a network \\nof independent vision care providers nationwide, including retail chains, such as Lenscrafters, \\nTarget and most Pearl Vision locations.\\nVision Plan at a Glance \\nEyeMed In-Network Coverage\\nServiceEyeMed Doctors and Participating  \\nRetail Chains Copay Frequency\\nWellVision Exam® Exam is available once every \\ncalendar year$0\\nEvery \\ncalendar \\nyearFrames  •$150 allowance $0', metadata={'source': './2023_US_Highlights_Benefits_Program.pdf', 'page': 27}), Document(page_content='We believe preventive care is  \\nso important that it’s covered \\n100% when you receive \\nin-network care under the \\nJPMorgan Chase Medical Plan, \\nDental Plan and Vision Plan.', metadata={'source': './2023_US_Highlights_Benefits_Program.pdf', 'page': 27}), Document(page_content='Every \\ncalendar \\nyearFrames  •$150 allowance $0\\nLenses  •Single vision, lined bifocals or lined \\ntrifocals\\n •Tints, scratch -resistant coating and \\npolycarbonate lenses are covered  \\nin full. $10\\nContact Lenses \\n(instead of \\neyeglass lenses)$150 allowance $0\\nContact  \\nLens ExamFully covered, after copayNo more \\nthan $55\\nRetinal Screening An enhancement to your \\nWellVision Exam®$39\\nYour Coverage with Out-of-Network Providers\\nExam\\nFrame\\nContactsup to $45\\nup to $75\\nup to $120Single Vision\\nLined Bifocal \\nLenses\\nTintsup to $35\\nup to $50 \\nup to $11Lined Trifocal \\nLenses\\nProgressive \\nLensesup to $65 \\nup to $50\\nCost for Coverage\\nYour contributions for Vision Plan coverage are deducted from your pay on a before-tax  \\nbasis. Your cost for coverage depends on the type of dependents you cover.\\nEligible Dependents\\nYou can cover the same eligible \\ndependents under the Vision Plan as \\nunder the JPMorgan Chase Medical Plan \\n(please see page 23).\\nGet Preventive Care! \\nWe believe preventive care is', metadata={'source': './2023_US_Highlights_Benefits_Program.pdf', 'page': 27})]\u001b[0m\u001b[32;1m\u001b[1;3mThe JPMorgan Chase Vision Plan, administered by EyeMed, helps you pay for covered vision expenses, such as eye examinations, lenses (including contact lenses) and eyeglass frames. \n",
      "\n",
      "Here's a glance at the coverage:\n",
      "\n",
      "**EyeMed In-Network Coverage**\n",
      "- WellVision Exam®: Exam is available once every calendar year with $0 copay.\n",
      "- Frames: $150 allowance with $0 copay.\n",
      "- Lenses: Single vision, lined bifocals or lined trifocals. Tints, scratch-resistant coating, and polycarbonate lenses are covered in full with a $10 copay.\n",
      "- Contact Lenses (instead of eyeglass lenses): $150 allowance with $0 copay.\n",
      "- Contact Lens Exam: Fully covered, after copay of no more than $55.\n",
      "- Retinal Screening: An enhancement to your WellVision Exam® with a $39 copay.\n",
      "\n",
      "**Coverage with Out-of-Network Providers**\n",
      "- Exam: up to $45\n",
      "- Frame: up to $75\n",
      "- Contacts: up to $120\n",
      "- Single Vision Lenses: up to $35\n",
      "- Lined Bifocal Lenses: up to $50\n",
      "- Tints: up to $11\n",
      "- Lined Trifocal Lenses: up to $65\n",
      "- Progressive Lenses: up to $50\n",
      "\n",
      "Your contributions for Vision Plan coverage are deducted from your pay on a before-tax basis. Your cost for coverage depends on the type of dependents you cover. You can cover the same eligible dependents under the Vision Plan as under the JPMorgan Chase Medical Plan.\u001b[0m\n",
      "\n",
      "\u001b[1m> Finished chain.\u001b[0m\n",
      "The JPMorgan Chase Vision Plan, administered by EyeMed, helps you pay for covered vision expenses, such as eye examinations, lenses (including contact lenses) and eyeglass frames. \n",
      "\n",
      "Here's a glance at the coverage:\n",
      "\n",
      "**EyeMed In-Network Coverage**\n",
      "- WellVision Exam®: Exam is available once every calendar year with $0 copay.\n",
      "- Frames: $150 allowance with $0 copay.\n",
      "- Lenses: Single vision, lined bifocals or lined trifocals. Tints, scratch-resistant coating, and polycarbonate lenses are covered in full with a $10 copay.\n",
      "- Contact Lenses (instead of eyeglass lenses): $150 allowance with $0 copay.\n",
      "- Contact Lens Exam: Fully covered, after copay of no more than $55.\n",
      "- Retinal Screening: An enhancement to your WellVision Exam® with a $39 copay.\n",
      "\n",
      "**Coverage with Out-of-Network Providers**\n",
      "- Exam: up to $45\n",
      "- Frame: up to $75\n",
      "- Contacts: up to $120\n",
      "- Single Vision Lenses: up to $35\n",
      "- Lined Bifocal Lenses: up to $50\n",
      "- Tints: up to $11\n",
      "- Lined Trifocal Lenses: up to $65\n",
      "- Progressive Lenses: up to $50\n",
      "\n",
      "Your contributions for Vision Plan coverage are deducted from your pay on a before-tax basis. Your cost for coverage depends on the type of dependents you cover. You can cover the same eligible dependents under the Vision Plan as under the JPMorgan Chase Medical Plan.\n"
     ]
    }
   ],
   "source": [
    "bismayan_chat(\"What is the coverage cost of the vision plan offered by JP Morgan?\")"
   ]
  },
  {
   "cell_type": "code",
   "execution_count": 24,
   "metadata": {},
   "outputs": [
    {
     "name": "stdout",
     "output_type": "stream",
     "text": [
      "\n",
      "\n",
      "\u001b[1m> Entering new AgentExecutor chain...\u001b[0m\n",
      "\u001b[32;1m\u001b[1;3mSure, here's the information formatted as a table:\n",
      "\n",
      "| Service | In-Network Coverage | Out-of-Network Coverage |\n",
      "|---------|---------------------|-------------------------|\n",
      "| WellVision Exam® | $0 copay, available once every calendar year | Up to $45 |\n",
      "| Frames | $150 allowance with $0 copay | Up to $75 |\n",
      "| Lenses (Single vision, lined bifocals or lined trifocals) | $10 copay, tints, scratch-resistant coating, and polycarbonate lenses are covered in full | Single Vision: Up to $35, Lined Bifocal: Up to $50, Lined Trifocal: Up to $65 |\n",
      "| Contact Lenses (instead of eyeglass lenses) | $150 allowance with $0 copay | Up to $120 |\n",
      "| Contact Lens Exam | Fully covered, after copay of no more than $55 | Not specified |\n",
      "| Retinal Screening | $39 copay | Not specified |\n",
      "| Tints | Included in lenses coverage | Up to $11 |\n",
      "| Progressive Lenses | Not specified | Up to $50 |\n",
      "\n",
      "Please note that your contributions for Vision Plan coverage are deducted from your pay on a before-tax basis. Your cost for coverage depends on the type of dependents you cover. You can cover the same eligible dependents under the Vision Plan as under the JPMorgan Chase Medical Plan.\u001b[0m\n",
      "\n",
      "\u001b[1m> Finished chain.\u001b[0m\n",
      "Sure, here's the information formatted as a table:\n",
      "\n",
      "| Service | In-Network Coverage | Out-of-Network Coverage |\n",
      "|---------|---------------------|-------------------------|\n",
      "| WellVision Exam® | $0 copay, available once every calendar year | Up to $45 |\n",
      "| Frames | $150 allowance with $0 copay | Up to $75 |\n",
      "| Lenses (Single vision, lined bifocals or lined trifocals) | $10 copay, tints, scratch-resistant coating, and polycarbonate lenses are covered in full | Single Vision: Up to $35, Lined Bifocal: Up to $50, Lined Trifocal: Up to $65 |\n",
      "| Contact Lenses (instead of eyeglass lenses) | $150 allowance with $0 copay | Up to $120 |\n",
      "| Contact Lens Exam | Fully covered, after copay of no more than $55 | Not specified |\n",
      "| Retinal Screening | $39 copay | Not specified |\n",
      "| Tints | Included in lenses coverage | Up to $11 |\n",
      "| Progressive Lenses | Not specified | Up to $50 |\n",
      "\n",
      "Please note that your contributions for Vision Plan coverage are deducted from your pay on a before-tax basis. Your cost for coverage depends on the type of dependents you cover. You can cover the same eligible dependents under the Vision Plan as under the JPMorgan Chase Medical Plan.\n"
     ]
    }
   ],
   "source": [
    "bismayan_chat(\"Can you format it as a table?\")"
   ]
  },
  {
   "cell_type": "code",
   "execution_count": 25,
   "metadata": {},
   "outputs": [
    {
     "name": "stdout",
     "output_type": "stream",
     "text": [
      "\n",
      "\n",
      "\u001b[1m> Entering new AgentExecutor chain...\u001b[0m\n",
      "\u001b[32;1m\u001b[1;3m\n",
      "Invoking: `search_ubs_benefits` with `life insurance`\n",
      "\n",
      "\n",
      "\u001b[0m\u001b[36;1m\u001b[1;3m[Document(page_content='be required thereafter for coverage over $125,000.\\nDependent Life Insurance  \\n• Purchase coverage of $5,000 or $10,000.\\nAccidental Death & Dismemberment Insurance\\n•  Purchase coverage in increments of $10,000, up to  \\n$1.75 million.\\nBusiness Travel Insurance\\n•  Provided at no cost; coverage up to 10x your BBS,  \\nup to $1.25 million, for eligible employees.\\nTuition Assistance Program\\n•  Up to $8,000 for qualifying employees with at least 6 \\nmonths of service to further professional development.\\nGroup Legal Plan\\n•  Affordable access to attorneys for certain personal legal \\nservices, now with additional included services for 2023.\\nScholarship Programs\\n•  Available for our employees’ children. Visit the Employee \\nHandbook at goto/HR  for more information.\\nLife Essentials\\n•  As part of our partnership with The Hartford, UBS \\nemployees have access to a range of other helpful \\nservices including Funeral Concierge, Beneficiary Assist', metadata={'source': './ubs-benefits-2022-at-a-glance.pdf', 'page': 3}), Document(page_content='including pregnancy.\\n     Effective January 1, 2023, the STD program will provide  \\n8 - 26 weeks paid at 100% of your current salary based \\non your years of service, and then 75% of your current \\nsalary for the remainder of your approved leave duration.\\nLong-Term Disability (LTD)  \\n•  Basic coverage 50% of LTD Beneﬁts Base Salary up to \\n$5,000 per month provided at no cost to employees.5 \\nSupplemental LTD coverage option also available. Critical Illness Insurance6\\n•  Financial protection in a lump sum ($20,000 or $40,000) \\nupon diagnosis of a covered illness.\\nBasic Life Insurance\\n•  Provided at no cost; coverage equal to 2x BBS (up to \\n$250,000) for eligible employees.\\nSupplemental Life Insurance\\n•  Purchase coverage equal to 1-8x your compensation, up to \\n$5 million.7\\nSpouse/Partner Life Insurance  \\n•  Purchase coverage in increments of $25,000, up to \\n$250,000.8 No evidence of insurability (EOI) requirement \\napplies during the 2023 Open Enrollment period. EOI will', metadata={'source': './ubs-benefits-2022-at-a-glance.pdf', 'page': 3}), Document(page_content='Counseling, EstateGuidance Will Services, Travel Assistance \\nwith ID Theft Protection, Ability Assist Counseling and \\nHealthChampion Health Care Support.Financial Well-Being  $$$\\n \\n Additional details, including terms and conditions \\nof participation regarding the Benefits Plan \\ncomponents and Policies summarized in this \\nbooklet may be found at:\\n•  US Benefits microsite at ubs.com/usbenefits\\n• UBS Employee Handbook at goto/HR\\n•  Summary Plan Descriptions at goto/usbenefits', metadata={'source': './ubs-benefits-2022-at-a-glance.pdf', 'page': 3})]\u001b[0m\u001b[32;1m\u001b[1;3m\n",
      "Invoking: `search_jpmc_benefits` with `life insurance`\n",
      "\n",
      "\n",
      "\u001b[0m\u001b[33;1m\u001b[1;3m[Document(page_content='are paid to your designated beneficiary. \\n Additional benefits of the Basic Life Insurance Plan include:\\n —SurvivorSupport® Financial Counseling Service: Provides telephonic financial \\ncounseling services to a surviving spouse or key adult survivor for six months after an \\nemployee’s death\\n —Travel Assistance with ID Theft Solutions Services:1 \\n •Identity (ID) Theft Assistance Program: Provides identity theft protection \\neducation and assistance to help guide you through the recovery process if your \\nidentity or that of your dependents is compromised.\\n •Travel Assistance and Emergency Evacuation Services: Provides travel  \\nassistance and emergency services for employees and their family members in  \\nthe event of an unexpected medical emergency when traveling 100 miles or more \\nfrom home.\\n •Mobile Assist: Provides information to help avoid expensive mobile telephone \\ncharges and help effectively use overseas options.', metadata={'source': './2023_US_Highlights_Benefits_Program.pdf', 'page': 32}), Document(page_content='Life Insurance for your eligible dependents on an after-tax basis. You can buy coverage for \\nyour spouse/domestic partner from $10,000 to $300,000 (in $10,000 increments), subject to \\napproval by MetLife. In addition, you can buy $5,000, $10,000, $15,000 or $20,000 in \\ncoverage for each dependent child through MetLife (as long as they meet the eligibility \\nrequirements for dependent coverage). Please note: To purchase Supplemental Term Life \\nInsurance for your spouse/domestic partner or dependent child(ren), you do not need to \\nelect coverage for yourself.\\n •The following services are included with Supplemental Term Life Insurance at no cost:\\n —Will Preparation Services:1 Offers you and your spouse/domestic partner unlimited \\nface-to-face or telephonic meetings with an attorney from MetLife Legal Plans’ network of \\nover 174,000 participating attorneys. \\n —Estate Resolution Services:1 Offers legal assistance from MetLife Legal Plans’ attorney', metadata={'source': './2023_US_Highlights_Benefits_Program.pdf', 'page': 33}), Document(page_content='the liability coverage amount that may be appropriate for you. \\n — Claims Advocacy:  In the event of a claim, Marsh McLennan Agency will serve as your advocate throughout the claims process. Important Details About Participation in the Life and Accident Insurance Plans\\n •Evidence of Insurability (EOI): If you enroll in employee Supplemental Term Life Insurance when you are newly hired, you are \\nallowed to enroll for an amount up to the lesser of three times Total Annual Cash Compensation or $500,000 without having to \\nsubmit EOI. You can initially enroll a spouse/domestic partner for an amount up to $50,000 without having to submit EOI. \\nElected amounts above these guaranteed issue amounts will be subject to EOI. If you do not enroll as a new hire or if you \\nsubsequently increase coverage at a later date, all new coverage will be subject to EOI requirements at the time you make the \\nnew election.', metadata={'source': './2023_US_Highlights_Benefits_Program.pdf', 'page': 34})]\u001b[0m\u001b[32;1m\u001b[1;3m\n",
      "Invoking: `search_cs_benefits` with `life insurance`\n",
      "\n",
      "\n",
      "\u001b[0m"
     ]
    },
    {
     "name": "stderr",
     "output_type": "stream",
     "text": [
      "Retrying langchain.chat_models.openai.ChatOpenAI.completion_with_retry.<locals>._completion_with_retry in 4.0 seconds as it raised RateLimitError: Rate limit reached for 10KTPM-200RPM in organization org-sLtlAQZo8jFpP9LgUHwOe4Lx on tokens per min. Limit: 10000 / min. Please try again in 6ms. Contact us through our help center at help.openai.com if you continue to have issues..\n"
     ]
    },
    {
     "name": "stdout",
     "output_type": "stream",
     "text": [
      "\u001b[38;5;200m\u001b[1;3m[Document(page_content='ȯVirtual benefits toolbox\\n ȯCalculators to estimate Life Insurance and Long-Term Disability  \\ncoverage needs\\n2023 U.S. Benefits Guide - NH 4\\nTip: When you grant shared \\naccess, your spouse or \\ndomestic partner will be able \\nto view all benefits-related \\ninformation, but will not be \\nable to make changes.\\nTest drive decision-making tools', metadata={'source': './Credit Suisse US Benefits Guide February 2023.pdf', 'page': 3}), Document(page_content='you can purchase supplemental coverage as needed. Credit Suisse also \\noffers Group Legal and Excess Liability coverage, and Critical Illness, Hospital \\nIndemnity, and Accidental Injury Insurance.\\nInsure your home, auto, and pet  \\nCredit Suisse gives you access to group rates for homeowners, renters, auto, \\nand pet insurance, which you can enroll in at any time. \\nGet help paying for school \\nGoing back to school? Our Tuition Assistance Program can help. And, to help \\nwith your child’s education costs, Credit Suisse awards ten scholarship grants \\neach year. Look for more details in February.\\n2023 U.S. Benefits Guide - NH', metadata={'source': './Credit Suisse US Benefits Guide February 2023.pdf', 'page': 7}), Document(page_content='be sure to gather dates of birth \\nand Social Security numbers for \\nany dependents you’ll be covering \\nand anyone you’ll be designating \\nor updating as a beneficiary for \\nyour Life Insurance, Personal \\nAccident Insurance, Health \\nSavings Account (HSA), and the \\n401(k) Plan.\\n2023 U.S. Benefits Guide - NH 3', metadata={'source': './Credit Suisse US Benefits Guide February 2023.pdf', 'page': 2})]\u001b[0m"
     ]
    },
    {
     "name": "stderr",
     "output_type": "stream",
     "text": [
      "Retrying langchain.chat_models.openai.ChatOpenAI.completion_with_retry.<locals>._completion_with_retry in 4.0 seconds as it raised RateLimitError: Rate limit reached for 10KTPM-200RPM in organization org-sLtlAQZo8jFpP9LgUHwOe4Lx on tokens per min. Limit: 10000 / min. Please try again in 6ms. Contact us through our help center at help.openai.com if you continue to have issues..\n"
     ]
    },
    {
     "name": "stdout",
     "output_type": "stream",
     "text": [
      "\u001b[32;1m\u001b[1;3mHere's a comparison of the life insurance policies offered by UBS, JPMC, and Credit Suisse:\n",
      "\n",
      "**UBS**\n",
      "- Basic Life Insurance: Provided at no cost; coverage equal to 2x BBS (up to $250,000) for eligible employees.\n",
      "- Supplemental Life Insurance: Purchase coverage equal to 1-8x your compensation, up to $5 million.\n",
      "- Spouse/Partner Life Insurance: Purchase coverage in increments of $25,000, up to $250,000. No evidence of insurability (EOI) requirement applies during the 2023 Open Enrollment period. EOI will be required thereafter for coverage over $125,000.\n",
      "- Dependent Life Insurance: Purchase coverage of $5,000 or $10,000.\n",
      "\n",
      "**JPMC**\n",
      "- Basic Life Insurance: Includes SurvivorSupport® Financial Counseling Service, Travel Assistance with ID Theft Solutions Services, and Mobile Assist.\n",
      "- Supplemental Term Life Insurance: You can buy coverage for your spouse/domestic partner from $10,000 to $300,000 (in $10,000 increments), subject to approval by MetLife. In addition, you can buy $5,000, $10,000, $15,000 or $20,000 in coverage for each dependent child through MetLife.\n",
      "- Services included with Supplemental Term Life Insurance at no cost: Will Preparation Services and Estate Resolution Services.\n",
      "\n",
      "**Credit Suisse**\n",
      "- The documents do not provide specific details about the life insurance policy offered by Credit Suisse.\n",
      "\n",
      "Based on the information available, it's difficult to determine which company offers the \"best\" life insurance policy as it largely depends on individual needs and circumstances. However, both UBS and JPMC offer comprehensive life insurance policies with additional benefits. UBS offers a high coverage limit for supplemental life insurance (up to $5 million), which could be beneficial for employees seeking a high level of coverage. JPMC, on the other hand, offers additional services like financial counseling and identity theft solutions with their life insurance policy, which could provide added value for some employees.\u001b[0m\n",
      "\n",
      "\u001b[1m> Finished chain.\u001b[0m\n",
      "Here's a comparison of the life insurance policies offered by UBS, JPMC, and Credit Suisse:\n",
      "\n",
      "**UBS**\n",
      "- Basic Life Insurance: Provided at no cost; coverage equal to 2x BBS (up to $250,000) for eligible employees.\n",
      "- Supplemental Life Insurance: Purchase coverage equal to 1-8x your compensation, up to $5 million.\n",
      "- Spouse/Partner Life Insurance: Purchase coverage in increments of $25,000, up to $250,000. No evidence of insurability (EOI) requirement applies during the 2023 Open Enrollment period. EOI will be required thereafter for coverage over $125,000.\n",
      "- Dependent Life Insurance: Purchase coverage of $5,000 or $10,000.\n",
      "\n",
      "**JPMC**\n",
      "- Basic Life Insurance: Includes SurvivorSupport® Financial Counseling Service, Travel Assistance with ID Theft Solutions Services, and Mobile Assist.\n",
      "- Supplemental Term Life Insurance: You can buy coverage for your spouse/domestic partner from $10,000 to $300,000 (in $10,000 increments), subject to approval by MetLife. In addition, you can buy $5,000, $10,000, $15,000 or $20,000 in coverage for each dependent child through MetLife.\n",
      "- Services included with Supplemental Term Life Insurance at no cost: Will Preparation Services and Estate Resolution Services.\n",
      "\n",
      "**Credit Suisse**\n",
      "- The documents do not provide specific details about the life insurance policy offered by Credit Suisse.\n",
      "\n",
      "Based on the information available, it's difficult to determine which company offers the \"best\" life insurance policy as it largely depends on individual needs and circumstances. However, both UBS and JPMC offer comprehensive life insurance policies with additional benefits. UBS offers a high coverage limit for supplemental life insurance (up to $5 million), which could be beneficial for employees seeking a high level of coverage. JPMC, on the other hand, offers additional services like financial counseling and identity theft solutions with their life insurance policy, which could provide added value for some employees.\n"
     ]
    }
   ],
   "source": [
    "bismayan_chat(\"Compare the life insurance policies of the three comapnies. Which do you think is better and why?\")"
   ]
  },
  {
   "cell_type": "code",
   "execution_count": 26,
   "metadata": {},
   "outputs": [
    {
     "name": "stdout",
     "output_type": "stream",
     "text": [
      "\n",
      "\n",
      "\u001b[1m> Entering new AgentExecutor chain...\u001b[0m\n",
      "\u001b[32;1m\u001b[1;3m\n",
      "Invoking: `search_cs_benefits` with `basic life insurance`\n",
      "\n",
      "\n",
      "\u001b[0m\u001b[38;5;200m\u001b[1;3m[Document(page_content='Remember: Once you enroll as a new hire, Annual Enrollment is the only \\ntime of the year you can make changes to the following benefits unless \\nyou experience a qualified status change during the year.\\n ȯHealth coverage (Medical, Prescription Drug, Dental, and Vision)\\n ȯHealth Savings Account (HSA)\\n ȯHealth Care and Dependent Care Flexible Spending Accounts (FSAs)\\n ȯBasic, Supplemental, and Spouse Life Insurances\\n ȯPersonal and Dependent Accident Insurances\\n ȯPersonal Excess Liability Insurance\\n ȯLong-Term Disability (LTD)\\n ȯVoluntary Benefits (Supplemental Critical Illness, Accidental Injury, and \\nHospital Indemnity Insurances)\\n ȯLegal Assistance Plan\\nWhat happens if you don’t enroll?\\nIt’s important to enroll to make sure you have the best benefit options for \\nyou and your family. However, if you don’t take action during your new hire \\nenrollment window, here’s what you’ll receive in 2023:\\n ȯCompany-paid Basic Life Insurance of one times your annual base salary.', metadata={'source': './Credit Suisse US Benefits Guide February 2023.pdf', 'page': 2}), Document(page_content='ȯCompany-paid Personal Accident Insurance coverage of 1x your annual \\nbase salary up to $500,000, or a minimum of $50,000.\\n ȯShort-Term Disability (STD) coverage starting on the first day of absence \\ndue to a non-work-related illness or injury and continuing for the duration of \\nyour disability, up to a maximum of 180 calendar days.\\n ȯCore Company-paid LTD coverage of 50% of 1x your annual benefits \\ncompensation, up to $10,000 per month.How your Credit Suisse benefits take flight\\nVerify dependent \\neligibility\\nOne of the ways Credit Suisse \\nmanages health care costs is \\nby ensuring that only those who \\nare eligible for coverage are \\ncovered. If you enroll dependents \\nin coverage, you may receive a \\nrequest from the Credit Suisse \\nBenefits Service Center later \\nthis year asking you to verify \\nyour dependents’ eligibility. Be \\nsure to follow up with requested \\ninformation to avoid losing your \\ndependents’ coverage.\\nAlso, when you’re ready to enroll, \\nbe sure to gather dates of birth', metadata={'source': './Credit Suisse US Benefits Guide February 2023.pdf', 'page': 2}), Document(page_content='ȯVirtual benefits toolbox\\n ȯCalculators to estimate Life Insurance and Long-Term Disability  \\ncoverage needs\\n2023 U.S. Benefits Guide - NH 4\\nTip: When you grant shared \\naccess, your spouse or \\ndomestic partner will be able \\nto view all benefits-related \\ninformation, but will not be \\nable to make changes.\\nTest drive decision-making tools', metadata={'source': './Credit Suisse US Benefits Guide February 2023.pdf', 'page': 3})]\u001b[0m\u001b[32;1m\u001b[1;3mThe basic life insurance policy at Credit Suisse covers one times your annual base salary. This is a company-paid benefit.\u001b[0m\n",
      "\n",
      "\u001b[1m> Finished chain.\u001b[0m\n",
      "The basic life insurance policy at Credit Suisse covers one times your annual base salary. This is a company-paid benefit.\n"
     ]
    }
   ],
   "source": [
    "bismayan_chat(\"How much does the basic life insurance policy of credit suisse cover?\")"
   ]
  },
  {
   "cell_type": "code",
   "execution_count": 27,
   "metadata": {},
   "outputs": [
    {
     "name": "stderr",
     "output_type": "stream",
     "text": [
      "Retrying langchain.chat_models.openai.ChatOpenAI.completion_with_retry.<locals>._completion_with_retry in 4.0 seconds as it raised RateLimitError: Rate limit reached for 10KTPM-200RPM in organization org-sLtlAQZo8jFpP9LgUHwOe4Lx on tokens per min. Limit: 10000 / min. Please try again in 6ms. Contact us through our help center at help.openai.com if you continue to have issues..\n"
     ]
    },
    {
     "name": "stdout",
     "output_type": "stream",
     "text": [
      "\n",
      "\n",
      "\u001b[1m> Entering new AgentExecutor chain...\u001b[0m\n",
      "\u001b[32;1m\u001b[1;3m\n",
      "Invoking: `search_cs_benefits` with `Benefits Service Center contact`\n",
      "\n",
      "\n",
      "\u001b[0m\u001b[38;5;200m\u001b[1;3m[Document(page_content='12General resources\\nCredit Suisse Benefits Service Center 1 888 325 2732 \\nOutside the U.S.: 1 704 646 8768 \\nMonday – Friday, 9:00 a.m. – 5:00 p.m., Eastern Time\\nHR Service Center \\n(Personal information changes;  \\nvacation payout inquiries)Active Employees: HR Portal \\nEmail: Askhr.us@credit-suisse.com\\nPayroll portal.adp.com \\nCredit Suisse Payroll: 1 877 PAY 2732 (1 877 729 2732)\\nYour Benefits Resources From the Credit Suisse Intranet:  \\nGo to MY HR > Pay and Benefits > US Benefits Overview  \\nFrom outside the Credit Suisse Intranet: \\nGo to digital.alight.com/credit-suisse \\n(the first time you log on, you will be prompted to create a Benefits \\nAccess ID and password) \\n2023 U.S. Benefits Guide - NHUHC Programs (continued)\\nUnderstanding the pros and cons of different treatment \\noptions for a given conditionTreatment Decision Support\\nSupport to navigate complex health situations through access to a \\nteam of experts\\nHelp evaluating treatment options for certain conditions, including:', metadata={'source': './Credit Suisse US Benefits Guide February 2023.pdf', 'page': 11}), Document(page_content='Applied Behavioral Analysis (ABA) Therapy \\nAccess behavioral-based treatment of Autism Spectrum Disorders (ASD). \\nContact your medical carrier for more information.\\nCancer Support Program \\nGet support from nurses to help you manage symptoms, understand your \\nmedications and options, communicate with your doctors, and answer your \\nfamily’s questions. For assistance, call 1 866 913 2642.\\nFertility and Infertility Treatment Guidance \\nReceive specialized case management. To access benefits through  \\nthe Credit Suisse Medical Plan, you must first call for a consultation at  \\n1 866 774 4626.\\n2023 U.S. Benefits Guide - NH', metadata={'source': './Credit Suisse US Benefits Guide February 2023.pdf', 'page': 5}), Document(page_content='Health plans and specialized health management programs\\nAdvocacy Services \\n(Assistance with resolving health claim issues)1 888 325 2732\\nApplied Behavioral Analysis (ABA) Therapy \\n(Available through your provider network)Anthem: 1 877 285 0196 \\nUnitedHealthcare: 1 888 567 4654\\nCancer Support Program \\n(Available through Optum)1 866 913 2642 \\nDental Delta Dental \\ndeltadentalins.com/creditsuisse \\n1 800 592 0144\\nHealth Care Services Mount Sinai Health Center @ Credit Suisse EMA:  \\n1 212 538 7770  \\nmountsinai.org/creditsuisse \\nUNC Health Center @ Credit Suisse RTP:  \\n 1 919 994 6331  \\nuncpn.com/creditsuisse \\nMonday – Friday, 9:00 a.m. – 5:00 p.m., Eastern Time\\nHealth Savings Account (HSA) Fidelity \\n401k.com \\n1 800 588 6200 \\nOutside the U.S.: 1 877 833 9900\\nMedical Anthem  \\nanthem.com \\n1 877 285 0196\\nAetna International \\naetnainternational.com \\nInternational toll-free: 1 800 231 7729   \\nDirect/collect: 1 813 775 0190 UnitedHealthcare \\nmyuhc.com \\nCurrent members: 1 888 567 \\n4654', metadata={'source': './Credit Suisse US Benefits Guide February 2023.pdf', 'page': 12})]\u001b[0m"
     ]
    },
    {
     "name": "stderr",
     "output_type": "stream",
     "text": [
      "Retrying langchain.chat_models.openai.ChatOpenAI.completion_with_retry.<locals>._completion_with_retry in 4.0 seconds as it raised RateLimitError: Rate limit reached for 10KTPM-200RPM in organization org-sLtlAQZo8jFpP9LgUHwOe4Lx on tokens per min. Limit: 10000 / min. Please try again in 6ms. Contact us through our help center at help.openai.com if you continue to have issues..\n",
      "Retrying langchain.chat_models.openai.ChatOpenAI.completion_with_retry.<locals>._completion_with_retry in 4.0 seconds as it raised RateLimitError: Rate limit reached for 10KTPM-200RPM in organization org-sLtlAQZo8jFpP9LgUHwOe4Lx on tokens per min. Limit: 10000 / min. Please try again in 6ms. Contact us through our help center at help.openai.com if you continue to have issues..\n",
      "Retrying langchain.chat_models.openai.ChatOpenAI.completion_with_retry.<locals>._completion_with_retry in 4.0 seconds as it raised RateLimitError: Rate limit reached for 10KTPM-200RPM in organization org-sLtlAQZo8jFpP9LgUHwOe4Lx on tokens per min. Limit: 10000 / min. Please try again in 6ms. Contact us through our help center at help.openai.com if you continue to have issues..\n"
     ]
    },
    {
     "name": "stdout",
     "output_type": "stream",
     "text": [
      "\u001b[32;1m\u001b[1;3mYou can reach the Credit Suisse Benefits Service Center through the following contact details:\n",
      "\n",
      "- Within the U.S.: 1 888 325 2732\n",
      "- Outside the U.S.: 1 704 646 8768\n",
      "- Operating hours: Monday – Friday, 9:00 a.m. – 5:00 p.m., Eastern Time\n",
      "\n",
      "For HR-related inquiries, you can contact the HR Service Center via the HR Portal or by email at Askhr.us@credit-suisse.com.\u001b[0m\n",
      "\n",
      "\u001b[1m> Finished chain.\u001b[0m\n",
      "You can reach the Credit Suisse Benefits Service Center through the following contact details:\n",
      "\n",
      "- Within the U.S.: 1 888 325 2732\n",
      "- Outside the U.S.: 1 704 646 8768\n",
      "- Operating hours: Monday – Friday, 9:00 a.m. – 5:00 p.m., Eastern Time\n",
      "\n",
      "For HR-related inquiries, you can contact the HR Service Center via the HR Portal or by email at Askhr.us@credit-suisse.com.\n"
     ]
    }
   ],
   "source": [
    "bismayan_chat(\"Based on the documents from Credit Suisse, How can I reach the Credit Suisse Benefits Service Center\")"
   ]
  },
  {
   "cell_type": "code",
   "execution_count": 28,
   "metadata": {},
   "outputs": [
    {
     "name": "stdout",
     "output_type": "stream",
     "text": [
      "\n",
      "\n",
      "\u001b[1m> Entering new AgentExecutor chain...\u001b[0m\n",
      "\u001b[32;1m\u001b[1;3mThe Credit Suisse Benefits Service Center is open from Monday to Friday, 9:00 a.m. to 5:00 p.m., Eastern Time.\u001b[0m\n",
      "\n",
      "\u001b[1m> Finished chain.\u001b[0m\n",
      "The Credit Suisse Benefits Service Center is open from Monday to Friday, 9:00 a.m. to 5:00 p.m., Eastern Time.\n"
     ]
    }
   ],
   "source": [
    "bismayan_chat(\"What times are they open?\")"
   ]
  },
  {
   "cell_type": "code",
   "execution_count": 29,
   "metadata": {},
   "outputs": [
    {
     "name": "stderr",
     "output_type": "stream",
     "text": [
      "Retrying langchain.chat_models.openai.ChatOpenAI.completion_with_retry.<locals>._completion_with_retry in 4.0 seconds as it raised RateLimitError: Rate limit reached for 10KTPM-200RPM in organization org-sLtlAQZo8jFpP9LgUHwOe4Lx on tokens per min. Limit: 10000 / min. Please try again in 6ms. Contact us through our help center at help.openai.com if you continue to have issues..\n"
     ]
    },
    {
     "name": "stdout",
     "output_type": "stream",
     "text": [
      "\n",
      "\n",
      "\u001b[1m> Entering new AgentExecutor chain...\u001b[0m\n"
     ]
    },
    {
     "name": "stderr",
     "output_type": "stream",
     "text": [
      "Retrying langchain.chat_models.openai.ChatOpenAI.completion_with_retry.<locals>._completion_with_retry in 4.0 seconds as it raised RateLimitError: Rate limit reached for 10KTPM-200RPM in organization org-sLtlAQZo8jFpP9LgUHwOe4Lx on tokens per min. Limit: 10000 / min. Please try again in 6ms. Contact us through our help center at help.openai.com if you continue to have issues..\n"
     ]
    },
    {
     "name": "stdout",
     "output_type": "stream",
     "text": [
      "\u001b[32;1m\u001b[1;3m\n",
      "Invoking: `search_cs_benefits` with `medical plan ID cards`\n",
      "\n",
      "\n",
      "\u001b[0m"
     ]
    },
    {
     "name": "stderr",
     "output_type": "stream",
     "text": [
      "Retrying langchain.chat_models.openai.ChatOpenAI.completion_with_retry.<locals>._completion_with_retry in 4.0 seconds as it raised RateLimitError: Rate limit reached for 10KTPM-200RPM in organization org-sLtlAQZo8jFpP9LgUHwOe4Lx on tokens per min. Limit: 10000 / min. Please try again in 6ms. Contact us through our help center at help.openai.com if you continue to have issues..\n"
     ]
    },
    {
     "name": "stdout",
     "output_type": "stream",
     "text": [
      "\u001b[38;5;200m\u001b[1;3m[Document(page_content='out-of-network care. For example, if you:\\n ȯAre in the middle of a complex treatment cycle when your provider changes \\nto out-of-network\\n ȯWent to the nearest emergency room for a life-threatening emergency but it \\nwas out-of-network\\n ȯFind there is not an in-network provider within 20 miles of your home \\n(exceptions may apply when you are seeking care that must be performed \\nin-network or at a Center of Excellence)\\nIf you find yourself in a situation like this, contact your Medical Plan carrier as \\nsoon as possible. Reference the ID number on your Medical Plan card when \\ncontacting Anthem or UnitedHealthcare (UHC).Where to find ID cards\\nMedical plan ID cards will be \\nmailed to you after you enroll \\nand are accessible through your \\ncarrier’s website and app. \\nYou can access your medical, \\ndental, and vision ID information \\neither by downloading your \\ncarriers’ apps from YBR or visiting \\ntheir websites directly.\\nChoose your own (benefits) adventure', metadata={'source': './Credit Suisse US Benefits Guide February 2023.pdf', 'page': 4}), Document(page_content='2023 U.S. Benefits Guide - NH 55Using your benefits wisely year-round is a great first step toward living \\nyour healthiest life, saving money, and maximizing your tax-free and \\nincome-protection opportunities. Here are some tips to make the most \\nof the Credit Suisse benefits that you’re enrolled in for 2023.\\nHealth benefits\\nMake the most of your medical benefits.\\nDownload ID cards  \\nKeep your ID cards with you at all times by accessing them on your mobile device. \\nDownload your insurance carrier’s app and follow the instructions to sign in.\\nLook in-network \\nHigher cost doesn’t always mean higher quality, and using providers (e.g., \\ndoctors, dentists, opticians, hospitals, pharmacies) in your network will always \\ncost you less. Visit your carrier’s website to find providers and explore cost and \\nquality comparison tools.\\nKnow when to negotiate in-network rates \\nThere are some instances where you may be able to pay in-network rates for \\nout-of-network care. For example, if you:', metadata={'source': './Credit Suisse US Benefits Guide February 2023.pdf', 'page': 4}), Document(page_content='Destination: 2023 \\nU.S. Benefits Guide', metadata={'source': './Credit Suisse US Benefits Guide February 2023.pdf', 'page': 0})]\u001b[0m"
     ]
    },
    {
     "name": "stderr",
     "output_type": "stream",
     "text": [
      "Retrying langchain.chat_models.openai.ChatOpenAI.completion_with_retry.<locals>._completion_with_retry in 4.0 seconds as it raised RateLimitError: Rate limit reached for 10KTPM-200RPM in organization org-sLtlAQZo8jFpP9LgUHwOe4Lx on tokens per min. Limit: 10000 / min. Please try again in 6ms. Contact us through our help center at help.openai.com if you continue to have issues..\n",
      "Retrying langchain.chat_models.openai.ChatOpenAI.completion_with_retry.<locals>._completion_with_retry in 4.0 seconds as it raised RateLimitError: Rate limit reached for 10KTPM-200RPM in organization org-sLtlAQZo8jFpP9LgUHwOe4Lx on tokens per min. Limit: 10000 / min. Please try again in 6ms. Contact us through our help center at help.openai.com if you continue to have issues..\n"
     ]
    },
    {
     "name": "stdout",
     "output_type": "stream",
     "text": [
      "\u001b[32;1m\u001b[1;3mMedical plan ID cards will be mailed to you after you enroll. They are also accessible through your carrier’s website and app. You can access your medical, dental, and vision ID information either by downloading your carriers’ apps from Your Benefits Resources (YBR) or visiting their websites directly. It's recommended to keep your ID cards with you at all times by accessing them on your mobile device.\u001b[0m\n",
      "\n",
      "\u001b[1m> Finished chain.\u001b[0m\n",
      "Medical plan ID cards will be mailed to you after you enroll. They are also accessible through your carrier’s website and app. You can access your medical, dental, and vision ID information either by downloading your carriers’ apps from Your Benefits Resources (YBR) or visiting their websites directly. It's recommended to keep your ID cards with you at all times by accessing them on your mobile device.\n"
     ]
    }
   ],
   "source": [
    "bismayan_chat(\"How do I get my CS medical plan ID cards?\")"
   ]
  },
  {
   "cell_type": "code",
   "execution_count": 30,
   "metadata": {},
   "outputs": [
    {
     "name": "stderr",
     "output_type": "stream",
     "text": [
      "Retrying langchain.chat_models.openai.ChatOpenAI.completion_with_retry.<locals>._completion_with_retry in 4.0 seconds as it raised RateLimitError: Rate limit reached for 10KTPM-200RPM in organization org-sLtlAQZo8jFpP9LgUHwOe4Lx on tokens per min. Limit: 10000 / min. Please try again in 6ms. Contact us through our help center at help.openai.com if you continue to have issues..\n"
     ]
    },
    {
     "name": "stdout",
     "output_type": "stream",
     "text": [
      "\n",
      "\n",
      "\u001b[1m> Entering new AgentExecutor chain...\u001b[0m\n",
      "\u001b[32;1m\u001b[1;3m\n",
      "Invoking: `search_cs_benefits` with `dental plans`\n",
      "\n",
      "\n",
      "\u001b[0m"
     ]
    },
    {
     "name": "stderr",
     "output_type": "stream",
     "text": [
      "Retrying langchain.chat_models.openai.ChatOpenAI.completion_with_retry.<locals>._completion_with_retry in 4.0 seconds as it raised RateLimitError: Rate limit reached for 10KTPM-200RPM in organization org-sLtlAQZo8jFpP9LgUHwOe4Lx on tokens per min. Limit: 10000 / min. Please try again in 6ms. Contact us through our help center at help.openai.com if you continue to have issues..\n"
     ]
    },
    {
     "name": "stdout",
     "output_type": "stream",
     "text": [
      "\u001b[38;5;200m\u001b[1;3m[Document(page_content='out-of-network care. For example, if you:\\n ȯAre in the middle of a complex treatment cycle when your provider changes \\nto out-of-network\\n ȯWent to the nearest emergency room for a life-threatening emergency but it \\nwas out-of-network\\n ȯFind there is not an in-network provider within 20 miles of your home \\n(exceptions may apply when you are seeking care that must be performed \\nin-network or at a Center of Excellence)\\nIf you find yourself in a situation like this, contact your Medical Plan carrier as \\nsoon as possible. Reference the ID number on your Medical Plan card when \\ncontacting Anthem or UnitedHealthcare (UHC).Where to find ID cards\\nMedical plan ID cards will be \\nmailed to you after you enroll \\nand are accessible through your \\ncarrier’s website and app. \\nYou can access your medical, \\ndental, and vision ID information \\neither by downloading your \\ncarriers’ apps from YBR or visiting \\ntheir websites directly.\\nChoose your own (benefits) adventure', metadata={'source': './Credit Suisse US Benefits Guide February 2023.pdf', 'page': 4}), Document(page_content='8888Prescription drugs (continued)\\nSaveOnSP program for Standard Plan participants  \\nIf you enroll in the Medical Plan Standard option and fill certain specialty drugs, \\nyou will be eligible for a special pharmacy copay assistance program through \\nSaveOnSP. Under the program, your cost for eligible specialty medications will \\nbe $0.\\nWant to know more? Contact Express Scripts at express-scripts.com/\\ncreditsuisse or 1 866 210 4473.\\nFinancial benefits \\nWith your Credit Suisse benefits, you can save and build wealth in so many ways:\\nManage HSA savings and investments \\nIf you’re enrolled in a Consumer Driven Health Plan (CDHP) medical option, you \\nhave the opportunity to set aside tax-free money in a HSA to spend on eligible \\nmedical, dental, and vision expenses now or in the future. Visit 401k.com to \\nmanage your account, track your expenses, and see this year’s IRS limits. \\nIf you elect an HSA for the first time, you must also report the account to', metadata={'source': './Credit Suisse US Benefits Guide February 2023.pdf', 'page': 7}), Document(page_content='2023 U.S. Benefits Guide - NH 55Using your benefits wisely year-round is a great first step toward living \\nyour healthiest life, saving money, and maximizing your tax-free and \\nincome-protection opportunities. Here are some tips to make the most \\nof the Credit Suisse benefits that you’re enrolled in for 2023.\\nHealth benefits\\nMake the most of your medical benefits.\\nDownload ID cards  \\nKeep your ID cards with you at all times by accessing them on your mobile device. \\nDownload your insurance carrier’s app and follow the instructions to sign in.\\nLook in-network \\nHigher cost doesn’t always mean higher quality, and using providers (e.g., \\ndoctors, dentists, opticians, hospitals, pharmacies) in your network will always \\ncost you less. Visit your carrier’s website to find providers and explore cost and \\nquality comparison tools.\\nKnow when to negotiate in-network rates \\nThere are some instances where you may be able to pay in-network rates for \\nout-of-network care. For example, if you:', metadata={'source': './Credit Suisse US Benefits Guide February 2023.pdf', 'page': 4})]\u001b[0m"
     ]
    },
    {
     "name": "stderr",
     "output_type": "stream",
     "text": [
      "Retrying langchain.chat_models.openai.ChatOpenAI.completion_with_retry.<locals>._completion_with_retry in 4.0 seconds as it raised RateLimitError: Rate limit reached for 10KTPM-200RPM in organization org-sLtlAQZo8jFpP9LgUHwOe4Lx on tokens per min. Limit: 10000 / min. Please try again in 6ms. Contact us through our help center at help.openai.com if you continue to have issues..\n",
      "Retrying langchain.chat_models.openai.ChatOpenAI.completion_with_retry.<locals>._completion_with_retry in 4.0 seconds as it raised RateLimitError: Rate limit reached for 10KTPM-200RPM in organization org-sLtlAQZo8jFpP9LgUHwOe4Lx on tokens per min. Limit: 10000 / min. Please try again in 6ms. Contact us through our help center at help.openai.com if you continue to have issues..\n"
     ]
    },
    {
     "name": "stdout",
     "output_type": "stream",
     "text": [
      "\u001b[32;1m\u001b[1;3m\n",
      "Invoking: `search_ubs_benefits` with `dental plans`\n",
      "\n",
      "\n",
      "\u001b[0m\u001b[36;1m\u001b[1;3m[Document(page_content='cost to you.\\nCVS Caremark Advanced Control Specialty Formulary \\nand Quantity Limits Program\\n•  Help managing Rx costs for specialty drugs or medications \\nfor serious or complex conditions.\\nBiometric Screenings and Flu Shots \\n•  A way to conduct important preventive screenings  \\nfrom the convenience of your home and continued \\nsupport for annual flu shots at no cost to you.\\nHospital Indemnity Insurance \\n•  A benefit that can provide ﬁnancial assistance in the event \\nof a qualifying hospital or ICU admission. \\n \\n \\n UBS Dental Plan \\n•  Two dental plan options: Cigna PPO and Cigna DHMO, \\nincluding coverage for a broad range of care. \\nUBS Vision Plan\\n•  Includes coverage for annual exams, plus an annual \\nallowance for eyeglasses or contact lenses. \\nAlight Healthcare Navigation  \\n•  A dedicated Health Pro and suite of tools to help you make \\ninformed beneﬁts choices.1\\nQuit For Life Tobacco Cessation Program\\n•  Step-by-step program for quitting tobacco provided at  \\nno cost to you.', metadata={'source': './ubs-benefits-2022-at-a-glance.pdf', 'page': 2}), Document(page_content='coinsurance, and/or your contributions for coverage. Summary Plan Descriptions (SPDs) are documents containing comprehensive descriptions of your benefit \\nplans, including terms and conditions of participation. These documents can be found on the Alight Worklife website.', metadata={'source': './ubs-benefits-2022-at-a-glance.pdf', 'page': 5}), Document(page_content='no cost to you.\\nTelehealth\\n•  Connect with a healthcare provider from the comfort of \\nyour home.\\nSmileDirectClub \\n• Discounted access to an at-home orthodontic option.\\nGympass  \\n•   Free access to virtual classes, and discounted membership \\nfor access to gyms, studios, other virtual ﬁtness classes and \\npersonal trainers.Physical Well-Being', metadata={'source': './ubs-benefits-2022-at-a-glance.pdf', 'page': 2})]\u001b[0m"
     ]
    },
    {
     "name": "stderr",
     "output_type": "stream",
     "text": [
      "Retrying langchain.chat_models.openai.ChatOpenAI.completion_with_retry.<locals>._completion_with_retry in 4.0 seconds as it raised RateLimitError: Rate limit reached for 10KTPM-200RPM in organization org-sLtlAQZo8jFpP9LgUHwOe4Lx on tokens per min. Limit: 10000 / min. Please try again in 6ms. Contact us through our help center at help.openai.com if you continue to have issues..\n",
      "Retrying langchain.chat_models.openai.ChatOpenAI.completion_with_retry.<locals>._completion_with_retry in 4.0 seconds as it raised RateLimitError: Rate limit reached for 10KTPM-200RPM in organization org-sLtlAQZo8jFpP9LgUHwOe4Lx on tokens per min. Limit: 10000 / min. Please try again in 6ms. Contact us through our help center at help.openai.com if you continue to have issues..\n",
      "Retrying langchain.chat_models.openai.ChatOpenAI.completion_with_retry.<locals>._completion_with_retry in 4.0 seconds as it raised RateLimitError: Rate limit reached for 10KTPM-200RPM in organization org-sLtlAQZo8jFpP9LgUHwOe4Lx on tokens per min. Limit: 10000 / min. Please try again in 6ms. Contact us through our help center at help.openai.com if you continue to have issues..\n",
      "Retrying langchain.chat_models.openai.ChatOpenAI.completion_with_retry.<locals>._completion_with_retry in 8.0 seconds as it raised RateLimitError: Rate limit reached for 10KTPM-200RPM in organization org-sLtlAQZo8jFpP9LgUHwOe4Lx on tokens per min. Limit: 10000 / min. Please try again in 6ms. Contact us through our help center at help.openai.com if you continue to have issues..\n"
     ]
    },
    {
     "name": "stdout",
     "output_type": "stream",
     "text": [
      "\u001b[32;1m\u001b[1;3mCredit Suisse and UBS both offer dental plans to their employees, but the specifics of these plans can vary. \n",
      "\n",
      "For Credit Suisse, the details of the dental plan were not specified in the documents retrieved. However, it is mentioned that employees can access their dental plan information through their carrier's website and app.\n",
      "\n",
      "On the other hand, UBS offers two dental plan options: Cigna PPO and Cigna DHMO, which provide coverage for a broad range of care. \n",
      "\n",
      "To get a comprehensive comparison, you would need to look at the specific details of each plan, including coverage, in-network providers, costs, and any additional benefits.\u001b[0m\n",
      "\n",
      "\u001b[1m> Finished chain.\u001b[0m\n",
      "Credit Suisse and UBS both offer dental plans to their employees, but the specifics of these plans can vary. \n",
      "\n",
      "For Credit Suisse, the details of the dental plan were not specified in the documents retrieved. However, it is mentioned that employees can access their dental plan information through their carrier's website and app.\n",
      "\n",
      "On the other hand, UBS offers two dental plan options: Cigna PPO and Cigna DHMO, which provide coverage for a broad range of care. \n",
      "\n",
      "To get a comprehensive comparison, you would need to look at the specific details of each plan, including coverage, in-network providers, costs, and any additional benefits.\n"
     ]
    }
   ],
   "source": [
    "bismayan_chat(\"What are some of the key differences between the dental plans offered by CS and UBS?\")"
   ]
  },
  {
   "cell_type": "code",
   "execution_count": 32,
   "metadata": {},
   "outputs": [
    {
     "name": "stdout",
     "output_type": "stream",
     "text": [
      "\n",
      "\n",
      "\u001b[1m> Entering new AgentExecutor chain...\u001b[0m\n",
      "\u001b[32;1m\u001b[1;3m\n",
      "Invoking: `search_ubs_benefits` with `Cigna PPO`\n",
      "\n",
      "\n",
      "\u001b[0m\u001b[36;1m\u001b[1;3m[Document(page_content='cost to you.\\nCVS Caremark Advanced Control Specialty Formulary \\nand Quantity Limits Program\\n•  Help managing Rx costs for specialty drugs or medications \\nfor serious or complex conditions.\\nBiometric Screenings and Flu Shots \\n•  A way to conduct important preventive screenings  \\nfrom the convenience of your home and continued \\nsupport for annual flu shots at no cost to you.\\nHospital Indemnity Insurance \\n•  A benefit that can provide ﬁnancial assistance in the event \\nof a qualifying hospital or ICU admission. \\n \\n \\n UBS Dental Plan \\n•  Two dental plan options: Cigna PPO and Cigna DHMO, \\nincluding coverage for a broad range of care. \\nUBS Vision Plan\\n•  Includes coverage for annual exams, plus an annual \\nallowance for eyeglasses or contact lenses. \\nAlight Healthcare Navigation  \\n•  A dedicated Health Pro and suite of tools to help you make \\ninformed beneﬁts choices.1\\nQuit For Life Tobacco Cessation Program\\n•  Step-by-step program for quitting tobacco provided at  \\nno cost to you.', metadata={'source': './ubs-benefits-2022-at-a-glance.pdf', 'page': 2}), Document(page_content='needs, as well as for neurodiverse employees.  \\nOnsite Mental Health Counselors\\n•  Connect one-on-one with an onsite licensed counselor at \\nthe UBS Employee Health Centers, starting January 2023. \\nVirtual appointments are also available, depending on \\nstate licensing. \\nSupport for Transgender Employees and  \\nFamily Members\\n•  Assistance for transgender employees and their family \\nmembers is available from Aetna and Cigna for \\nparticipants enrolled in the Core or Core Plus  \\nmedical plan options.\\nAdditional Support\\n•  Help managing health and well-being can be found at \\ngoto/wellbeing .Emotional Well-BeingConsumer Directed Health Plan (CDHP) \\n•  Preventive care services covered at 100%, prescription drug \\nbeneﬁts, mental health and substance use disorder beneﬁts.\\nExpert Medical Opinion Program \\n•  Access to top-tier medical care, advice and opinions, \\nincluding second opinion support and treatment plan \\ndevelopment or review for you and your family, at no  \\ncost to you.', metadata={'source': './ubs-benefits-2022-at-a-glance.pdf', 'page': 2}), Document(page_content='coinsurance, and/or your contributions for coverage. Summary Plan Descriptions (SPDs) are documents containing comprehensive descriptions of your benefit \\nplans, including terms and conditions of participation. These documents can be found on the Alight Worklife website.', metadata={'source': './ubs-benefits-2022-at-a-glance.pdf', 'page': 5})]\u001b[0m\u001b[32;1m\u001b[1;3m\n",
      "Invoking: `search_ubs_benefits` with `Cigna DHMO`\n",
      "\n",
      "\n",
      "\u001b[0m\u001b[36;1m\u001b[1;3m[Document(page_content='cost to you.\\nCVS Caremark Advanced Control Specialty Formulary \\nand Quantity Limits Program\\n•  Help managing Rx costs for specialty drugs or medications \\nfor serious or complex conditions.\\nBiometric Screenings and Flu Shots \\n•  A way to conduct important preventive screenings  \\nfrom the convenience of your home and continued \\nsupport for annual flu shots at no cost to you.\\nHospital Indemnity Insurance \\n•  A benefit that can provide ﬁnancial assistance in the event \\nof a qualifying hospital or ICU admission. \\n \\n \\n UBS Dental Plan \\n•  Two dental plan options: Cigna PPO and Cigna DHMO, \\nincluding coverage for a broad range of care. \\nUBS Vision Plan\\n•  Includes coverage for annual exams, plus an annual \\nallowance for eyeglasses or contact lenses. \\nAlight Healthcare Navigation  \\n•  A dedicated Health Pro and suite of tools to help you make \\ninformed beneﬁts choices.1\\nQuit For Life Tobacco Cessation Program\\n•  Step-by-step program for quitting tobacco provided at  \\nno cost to you.', metadata={'source': './ubs-benefits-2022-at-a-glance.pdf', 'page': 2}), Document(page_content='needs, as well as for neurodiverse employees.  \\nOnsite Mental Health Counselors\\n•  Connect one-on-one with an onsite licensed counselor at \\nthe UBS Employee Health Centers, starting January 2023. \\nVirtual appointments are also available, depending on \\nstate licensing. \\nSupport for Transgender Employees and  \\nFamily Members\\n•  Assistance for transgender employees and their family \\nmembers is available from Aetna and Cigna for \\nparticipants enrolled in the Core or Core Plus  \\nmedical plan options.\\nAdditional Support\\n•  Help managing health and well-being can be found at \\ngoto/wellbeing .Emotional Well-BeingConsumer Directed Health Plan (CDHP) \\n•  Preventive care services covered at 100%, prescription drug \\nbeneﬁts, mental health and substance use disorder beneﬁts.\\nExpert Medical Opinion Program \\n•  Access to top-tier medical care, advice and opinions, \\nincluding second opinion support and treatment plan \\ndevelopment or review for you and your family, at no  \\ncost to you.', metadata={'source': './ubs-benefits-2022-at-a-glance.pdf', 'page': 2}), Document(page_content='coinsurance, and/or your contributions for coverage. Summary Plan Descriptions (SPDs) are documents containing comprehensive descriptions of your benefit \\nplans, including terms and conditions of participation. These documents can be found on the Alight Worklife website.', metadata={'source': './ubs-benefits-2022-at-a-glance.pdf', 'page': 5})]\u001b[0m"
     ]
    },
    {
     "name": "stderr",
     "output_type": "stream",
     "text": [
      "Retrying langchain.chat_models.openai.ChatOpenAI.completion_with_retry.<locals>._completion_with_retry in 4.0 seconds as it raised RateLimitError: Rate limit reached for 10KTPM-200RPM in organization org-sLtlAQZo8jFpP9LgUHwOe4Lx on tokens per min. Limit: 10000 / min. Please try again in 6ms. Contact us through our help center at help.openai.com if you continue to have issues..\n"
     ]
    },
    {
     "name": "stdout",
     "output_type": "stream",
     "text": [
      "\u001b[32;1m\u001b[1;3mUBS offers two dental plan options: Cigna PPO and Cigna DHMO. Unfortunately, the specific details of these two plans are not provided in the documents retrieved. \n",
      "\n",
      "However, generally, PPO (Preferred Provider Organization) plans tend to offer more flexibility in choosing your dental care providers, but may come with higher costs. On the other hand, DHMO (Dental Health Maintenance Organization) plans usually have lower costs but limit your provider choices to those within the DHMO network.\n",
      "\n",
      "For a detailed comparison, you would need to look at the specific details of each plan, including coverage, in-network providers, costs, and any additional benefits. It's recommended to check the Summary Plan Descriptions (SPDs) on the Alight Worklife website for comprehensive descriptions of these benefit plans.\u001b[0m\n",
      "\n",
      "\u001b[1m> Finished chain.\u001b[0m\n",
      "UBS offers two dental plan options: Cigna PPO and Cigna DHMO. Unfortunately, the specific details of these two plans are not provided in the documents retrieved. \n",
      "\n",
      "However, generally, PPO (Preferred Provider Organization) plans tend to offer more flexibility in choosing your dental care providers, but may come with higher costs. On the other hand, DHMO (Dental Health Maintenance Organization) plans usually have lower costs but limit your provider choices to those within the DHMO network.\n",
      "\n",
      "For a detailed comparison, you would need to look at the specific details of each plan, including coverage, in-network providers, costs, and any additional benefits. It's recommended to check the Summary Plan Descriptions (SPDs) on the Alight Worklife website for comprehensive descriptions of these benefit plans.\n"
     ]
    }
   ],
   "source": [
    "bismayan_chat(\"Compare the two dental plans offered by UBS\")"
   ]
  },
  {
   "cell_type": "code",
   "execution_count": null,
   "metadata": {},
   "outputs": [],
   "source": []
  },
  {
   "cell_type": "code",
   "execution_count": null,
   "metadata": {},
   "outputs": [],
   "source": []
  }
 ],
 "metadata": {
  "kernelspec": {
   "display_name": "conv_retrieval_agent",
   "language": "python",
   "name": "python3"
  },
  "language_info": {
   "codemirror_mode": {
    "name": "ipython",
    "version": 3
   },
   "file_extension": ".py",
   "mimetype": "text/x-python",
   "name": "python",
   "nbconvert_exporter": "python",
   "pygments_lexer": "ipython3",
   "version": "3.10.13"
  },
  "orig_nbformat": 4
 },
 "nbformat": 4,
 "nbformat_minor": 2
}
